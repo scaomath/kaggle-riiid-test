{
 "metadata": {
  "language_info": {
   "codemirror_mode": {
    "name": "ipython",
    "version": 3
   },
   "file_extension": ".py",
   "mimetype": "text/x-python",
   "name": "python",
   "nbconvert_exporter": "python",
   "pygments_lexer": "ipython3",
   "version": "3.8.3-final"
  },
  "orig_nbformat": 2,
  "kernelspec": {
   "name": "python38364bitbaseconda97cd5720aa194725b86ca3d3cdd6281a",
   "display_name": "Python 3.8.3 64-bit ('base': conda)",
   "language": "python"
  }
 },
 "nbformat": 4,
 "nbformat_minor": 2,
 "cells": [
  {
   "source": [
    "# Debugging the baseline SAKT model\n",
    "- There is seemingly a bug in the `iter_env`.\n",
    "\n",
    "### TO-DO:\n",
    "features encoding:\n",
    "- how to address the problem with previous answers correctly not uniformly predicted\n",
    "- question tags "
   ],
   "cell_type": "markdown",
   "metadata": {}
  },
  {
   "cell_type": "code",
   "execution_count": 1,
   "metadata": {},
   "outputs": [
    {
     "output_type": "display_data",
     "data": {
      "text/plain": "<IPython.core.display.HTML object>",
      "text/html": "<style type='text/css'>\n.datatable table.frame { margin-bottom: 0; }\n.datatable table.frame thead { border-bottom: none; }\n.datatable table.frame tr.coltypes td {  color: #FFFFFF;  line-height: 6px;  padding: 0 0.5em;}\n.datatable .bool    { background: #DDDD99; }\n.datatable .object  { background: #565656; }\n.datatable .int     { background: #5D9E5D; }\n.datatable .float   { background: #4040CC; }\n.datatable .str     { background: #CC4040; }\n.datatable .row_index {  background: var(--jp-border-color3);  border-right: 1px solid var(--jp-border-color0);  color: var(--jp-ui-font-color3);  font-size: 9px;}\n.datatable .frame tr.coltypes .row_index {  background: var(--jp-border-color0);}\n.datatable th:nth-child(2) { padding-left: 12px; }\n.datatable .hellipsis {  color: var(--jp-cell-editor-border-color);}\n.datatable .vellipsis {  background: var(--jp-layout-color0);  color: var(--jp-cell-editor-border-color);}\n.datatable .na {  color: var(--jp-cell-editor-border-color);  font-size: 80%;}\n.datatable .footer { font-size: 9px; }\n.datatable .frame_dimensions {  background: var(--jp-border-color3);  border-top: 1px solid var(--jp-border-color0);  color: var(--jp-ui-font-color3);  display: inline-block;  opacity: 0.6;  padding: 1px 10px 1px 5px;}\n</style>\n"
     },
     "metadata": {}
    },
    {
     "output_type": "stream",
     "name": "stdout",
     "text": [
      "/home/scao/Documents/kaggle-riiid-test \n\n\n======================================== CPU Info ========================================\nPhysical cores    : 10\nTotal cores       : 20\nMax Frequency    : 5200.00 Mhz\nMin Frequency    : 800.00 Mhz\nCurrent Frequency: 4800.14 Mhz\n======================================== Memory Info ========================================\nTotal     : 62.62 GiB\nAvailable : 23.84 GiB\nUsed      : 37.48 GiB\n======================================== Software Info ========================================\nPython     : 3.8.3 (default, Jul  2 2020, 16:21:59) \nNumpy      : 1.18.5\nPandas     : 1.0.5\nPyTorch    : 1.7.0\n======================================== GPU Info ========================================\nDevice     : cuda:0\nGeForce RTX 3090\nMem total      : 23.7 GB\nMem allocated  : 0.0 GB\nMem cached     : 0.0 GB\n============================== system info print done ==============================\n"
     ]
    }
   ],
   "source": [
    "import os\n",
    "import gc\n",
    "import sys\n",
    "\n",
    "import pickle\n",
    "from time import time\n",
    "\n",
    "import datatable as dt\n",
    "import matplotlib.pyplot as plt\n",
    "import numpy as np\n",
    "import pandas as pd\n",
    "import seaborn as sns\n",
    "import torch\n",
    "import torch.nn as nn\n",
    "from torch import optim\n",
    "from sklearn.metrics import roc_auc_score\n",
    "from sklearn.model_selection import train_test_split\n",
    "from torch.autograd import Variable\n",
    "import torch.optim as optim\n",
    "from torch.optim import Optimizer\n",
    "from torch.optim.lr_scheduler import (CosineAnnealingWarmRestarts, CyclicLR, OneCycleLR,\n",
    "                                      ReduceLROnPlateau)\n",
    "from torch.utils.data import DataLoader, Dataset\n",
    "from tqdm import tqdm\n",
    "\n",
    "sns.set()\n",
    "DEFAULT_FIG_WIDTH = 20\n",
    "sns.set_context(\"paper\", font_scale=1.2) \n",
    "# WORKSPACE_FOLDER=/home/scao/Documents/kaggle-riiid-test\n",
    "# PYTHONPATH=${WORKSPACE_FOLDER}:${WORKSPACE_FOLDER}/sakt:${WORKSPACE_FOLDER}/transformer\n",
    "HOME = os.path.abspath(os.path.join('.', os.pardir))\n",
    "print(HOME, '\\n\\n')\n",
    "# HOME = \"/home/scao/Documents/kaggle-riiid-test/\"\n",
    "MODEL_DIR = os.path.join(HOME,  'model')\n",
    "DATA_DIR = os.path.join(HOME,  'data')\n",
    "sys.path.append(HOME) \n",
    "from utils import *\n",
    "get_system()\n",
    "from sakt import *\n",
    "from iter_env import *"
   ]
  },
  {
   "cell_type": "code",
   "execution_count": 2,
   "metadata": {},
   "outputs": [],
   "source": [
    "# set-up\n",
    "\n",
    "DEBUG = True\n",
    "TRAIN = False\n",
    "PREPROCESS = False\n",
    "\n",
    "TEST_SIZE = 0.05\n",
    "\n",
    "NUM_SKILLS = 13523 # number of problems\n",
    "MAX_SEQ = 180\n",
    "ACCEPTED_USER_CONTENT_SIZE = 4\n",
    "EMBED_SIZE = 128\n",
    "NUM_HEADS = 8\n",
    "BATCH_SIZE = 64\n",
    "VAL_BATCH_SIZE = 2048\n",
    "DEBUG_TEST_SIZE = 2500\n",
    "DROPOUT = 0.1\n",
    "SEED = 1127\n",
    "\n",
    "get_seed(SEED)\n",
    "\n",
    "'''\n",
    "Columns placeholder and preprocessing params\n",
    "'''\n",
    "CONTENT_TYPE_ID = \"content_type_id\"\n",
    "CONTENT_ID = \"content_id\"\n",
    "TARGET = \"answered_correctly\"\n",
    "USER_ID = \"user_id\"\n",
    "PRIOR_QUESTION_TIME = 'prior_question_elapsed_time'\n",
    "\n",
    "PRIOR_QUESTION_EXPLAIN = 'prior_question_had_explanation'\n",
    "TASK_CONTAINER_ID = \"task_container_id\"\n",
    "TIMESTAMP = \"timestamp\" \n",
    "ROW_ID = 'row_id'\n",
    "FILLNA_VAL = 14_000 # for prior question elapsed time, rounded average in train\n",
    "TIME_SCALING = 1000 # scaling down the prior question elapsed time\n",
    "\n",
    "TRAIN_COLS = [TIMESTAMP, USER_ID, CONTENT_ID, CONTENT_TYPE_ID, TARGET]\n",
    "\n",
    "TRAIN_DTYPES = {TIMESTAMP: 'int64', \n",
    "         USER_ID: 'int32', \n",
    "         CONTENT_ID: 'int16',\n",
    "         CONTENT_TYPE_ID: 'bool',\n",
    "         TARGET:'int8',\n",
    "         PRIOR_QUESTION_TIME: np.float32,\n",
    "         PRIOR_QUESTION_EXPLAIN: 'boolean'}\n",
    "\n",
    "\n",
    "if DEBUG:\n",
    "    NROWS_TEST = 25_000\n",
    "    NROWS_TRAIN = 5_000_000\n",
    "    NROWS_VAL = 500_000\n",
    "else:\n",
    "    NROWS_TEST = 250_000\n",
    "    NROWS_TRAIN = 50_000_000\n",
    "    NROWS_VAL = 2_000_000"
   ]
  },
  {
   "cell_type": "code",
   "execution_count": 3,
   "metadata": {},
   "outputs": [
    {
     "output_type": "stream",
     "name": "stdout",
     "text": [
      "valid users: 18274\ntrain users: 347191\n"
     ]
    }
   ],
   "source": [
    "if PREPROCESS:\n",
    "    with timer(\"Loading train from parquet\"):\n",
    "        train_df = pd.read_parquet(os.path.join(DATA_DIR, 'cv2_train.parquet'),\n",
    "                                columns=list(TRAIN_DTYPES.keys())).astype(TRAIN_DTYPES)\n",
    "        valid_df = pd.read_parquet(os.path.join(DATA_DIR, 'cv2_valid.parquet'),\n",
    "                                columns=list(TRAIN_DTYPES.keys())).astype(TRAIN_DTYPES)\n",
    "\n",
    "    if DEBUG:\n",
    "        train_df = train_df[:NROWS_TRAIN]\n",
    "        valid_df = valid_df[:NROWS_VAL]\n",
    "\n",
    "    with timer(\"Processing train\"):\n",
    "        train_group = preprocess(train_df)\n",
    "        valid_group = preprocess(valid_df, train_flag=2)\n",
    "else:\n",
    "    with open(os.path.join(DATA_DIR, 'sakt_group_cv2.pickle'), 'rb') as f:\n",
    "        group = pickle.load(f)\n",
    "    train_group, valid_group = train_test_split(group, test_size = TEST_SIZE, random_state=SEED)\n",
    "\n",
    "\n",
    "print(f\"valid users: {len(valid_group.keys())}\")\n",
    "print(f\"train users: {len(train_group.keys())}\")"
   ]
  },
  {
   "cell_type": "code",
   "execution_count": 4,
   "metadata": {},
   "outputs": [
    {
     "output_type": "execute_result",
     "data": {
      "text/plain": [
       "(torch.Size([64, 179]), torch.Size([64, 179]), torch.Size([64, 179]))"
      ]
     },
     "metadata": {},
     "execution_count": 4
    }
   ],
   "source": [
    "class SAKTDataset(Dataset):\n",
    "    def __init__(self, group, n_skill, max_seq=MAX_SEQ):\n",
    "        super(SAKTDataset, self).__init__()\n",
    "        self.samples, self.n_skill, self.max_seq = {}, n_skill, max_seq\n",
    "        \n",
    "        self.user_ids = []\n",
    "        for i, user_id in enumerate(group.index):\n",
    "            content_id, answered_correctly = group[user_id]\n",
    "            if len(content_id) >= ACCEPTED_USER_CONTENT_SIZE:\n",
    "                if len(content_id) > self.max_seq:\n",
    "                    total_questions = len(content_id)\n",
    "                    last_pos = total_questions // self.max_seq\n",
    "                    for seq in range(last_pos):\n",
    "                        index = f\"{user_id}_{seq}\"\n",
    "                        self.user_ids.append(index)\n",
    "                        start = seq * self.max_seq\n",
    "                        end = (seq + 1) * self.max_seq\n",
    "                        self.samples[index] = (content_id[start:end], \n",
    "                                               answered_correctly[start:end])\n",
    "                    if len(content_id[end:]) >= ACCEPTED_USER_CONTENT_SIZE:\n",
    "                        index = f\"{user_id}_{last_pos + 1}\"\n",
    "                        self.user_ids.append(index)\n",
    "                        self.samples[index] = (content_id[end:], \n",
    "                                               answered_correctly[end:])\n",
    "                else:\n",
    "                    index = f'{user_id}'\n",
    "                    self.user_ids.append(index)\n",
    "                    self.samples[index] = (content_id, answered_correctly)\n",
    "                \n",
    "                \n",
    "    def __len__(self):\n",
    "        return len(self.user_ids)\n",
    "\n",
    "    def __getitem__(self, index):\n",
    "        user_id = self.user_ids[index]\n",
    "        content_id, answered_correctly = self.samples[user_id]\n",
    "        seq_len = len(content_id)\n",
    "        \n",
    "        content_id_seq = np.zeros(self.max_seq, dtype=int)\n",
    "        answered_correctly_seq = np.zeros(self.max_seq, dtype=int)\n",
    "        if seq_len >= self.max_seq:\n",
    "            content_id_seq[:] = content_id[-self.max_seq:]\n",
    "            answered_correctly_seq[:] = answered_correctly[-self.max_seq:]\n",
    "        else:\n",
    "            content_id_seq[-seq_len:] = content_id\n",
    "            answered_correctly_seq[-seq_len:] = answered_correctly\n",
    "            \n",
    "        target_id = content_id_seq[1:] # question till the current one\n",
    "        label = answered_correctly_seq[1:]\n",
    "        \n",
    "        x = content_id_seq[:-1].copy() # question till the previous one\n",
    "        # encoded answers till the previous one\n",
    "        x += (answered_correctly_seq[:-1] == 1) * self.n_skill\n",
    "        \n",
    "        return x, target_id, label\n",
    "\n",
    "train_dataset = SAKTDataset(train_group, n_skill=NUM_SKILLS, max_seq=MAX_SEQ)\n",
    "train_dataloader = DataLoader(train_dataset, \n",
    "                                batch_size=BATCH_SIZE, \n",
    "                                shuffle=True, \n",
    "                                drop_last=True)\n",
    "\n",
    "\n",
    "val_dataset = SAKTDataset(valid_group, n_skill=NUM_SKILLS, max_seq=MAX_SEQ)\n",
    "val_dataloader = DataLoader(val_dataset, \n",
    "                            batch_size=VAL_BATCH_SIZE, \n",
    "                            shuffle=False)\n",
    "\n",
    "sample_batch = next(iter(train_dataloader))\n",
    "sample_batch[0].shape, sample_batch[1].shape, sample_batch[2].shape"
   ]
  },
  {
   "cell_type": "code",
   "execution_count": 5,
   "metadata": {},
   "outputs": [],
   "source": [
    "class FFN(nn.Module):\n",
    "    def __init__(self, state_size = MAX_SEQ, \n",
    "                    forward_expansion = 1, \n",
    "                    bn_size=MAX_SEQ - 1, \n",
    "                    dropout=0.2):\n",
    "        super(FFN, self).__init__()\n",
    "        self.state_size = state_size\n",
    "        \n",
    "        self.lr1 = nn.Linear(state_size, forward_expansion * state_size)\n",
    "        self.relu = nn.ReLU()\n",
    "        self.bn = nn.BatchNorm1d(bn_size)\n",
    "        self.lr2 = nn.Linear(forward_expansion * state_size, state_size)\n",
    "        self.dropout = nn.Dropout(dropout)\n",
    "        \n",
    "    def forward(self, x):\n",
    "        x = self.relu(self.lr1(x))\n",
    "        x = self.bn(x)\n",
    "        x = self.lr2(x)\n",
    "        return self.dropout(x)\n",
    "\n",
    "def future_mask(seq_length):\n",
    "    future_mask = (np.triu(np.ones([seq_length, seq_length]), k = 1)).astype('bool')\n",
    "    return torch.from_numpy(future_mask)\n",
    "\n",
    "class TransformerBlock(nn.Module):\n",
    "    def __init__(self, embed_dim, \n",
    "                    heads = 8, \n",
    "                    dropout = DROPOUT, \n",
    "                    forward_expansion = 1):\n",
    "        super(TransformerBlock, self).__init__()\n",
    "        self.multi_att = nn.MultiheadAttention(embed_dim=embed_dim, \n",
    "                        num_heads=heads, dropout=dropout)\n",
    "        self.dropout = nn.Dropout(dropout)\n",
    "        self.layer_normal = nn.LayerNorm(embed_dim)\n",
    "        self.ffn = FFN(embed_dim, \n",
    "                    forward_expansion = forward_expansion, \n",
    "                    dropout=dropout)\n",
    "        self.layer_normal_2 = nn.LayerNorm(embed_dim)\n",
    "        \n",
    "\n",
    "    def forward(self, value, key, query, att_mask):\n",
    "        att_output, att_weight = self.multi_att(value, key, query, attn_mask=att_mask)\n",
    "        att_output = self.dropout(self.layer_normal(att_output + value))\n",
    "        att_output = att_output.permute(1, 0, 2) \n",
    "        # att_output: [s_len, bs, embed] => [bs, s_len, embed]\n",
    "        x = self.ffn(att_output)\n",
    "        x = self.dropout(self.layer_normal_2(x + att_output))\n",
    "        return x.squeeze(-1), att_weight\n",
    "    \n",
    "class Encoder(nn.Module):\n",
    "    def __init__(self, n_skill, max_seq=100, \n",
    "                 embed_dim=128, \n",
    "                 dropout = DROPOUT, \n",
    "                 forward_expansion = 1, \n",
    "                 num_layers=1, \n",
    "                 heads = 8):\n",
    "        super(Encoder, self).__init__()\n",
    "        self.n_skill, self.embed_dim = n_skill, embed_dim\n",
    "        self.embedding = nn.Embedding(2 * n_skill + 1, embed_dim)\n",
    "        self.pos_embedding = nn.Embedding(max_seq - 1, embed_dim)\n",
    "        self.e_embedding = nn.Embedding(n_skill+1, embed_dim)\n",
    "        self.layers = nn.ModuleList([TransformerBlock(embed_dim, heads=heads,\n",
    "                forward_expansion = forward_expansion) for _ in range(num_layers)])\n",
    "        self.dropout = nn.Dropout(dropout)\n",
    "        \n",
    "    def forward(self, x, question_ids):\n",
    "        device = x.device\n",
    "        x = self.embedding(x)\n",
    "        pos_id = torch.arange(x.size(1)).unsqueeze(0).to(device)\n",
    "        pos_x = self.pos_embedding(pos_id)\n",
    "        x = self.dropout(x + pos_x)\n",
    "        x = x.permute(1, 0, 2) # x: [bs, s_len, embed] => [s_len, bs, embed]\n",
    "        e = self.e_embedding(question_ids)\n",
    "        e = e.permute(1, 0, 2)\n",
    "        for layer in self.layers:\n",
    "            att_mask = future_mask(e.size(0)).to(device)\n",
    "            x, att_weight = layer(e, x, x, att_mask=att_mask)\n",
    "            x = x.permute(1, 0, 2)\n",
    "        x = x.permute(1, 0, 2)\n",
    "        return x, att_weight\n",
    "\n",
    "class SAKTModel(nn.Module):\n",
    "    def __init__(self, \n",
    "                n_skill, \n",
    "                max_seq=MAX_SEQ, \n",
    "                embed_dim=EMBED_SIZE, \n",
    "                dropout = DROPOUT, \n",
    "                forward_expansion = 1, \n",
    "                enc_layers=1, \n",
    "                heads = NUM_HEADS):\n",
    "        super(SAKTModel, self).__init__()\n",
    "        self.encoder = Encoder(n_skill, \n",
    "                               max_seq, \n",
    "                               embed_dim, \n",
    "                               dropout, \n",
    "                               forward_expansion, \n",
    "                               num_layers=enc_layers,\n",
    "                               heads=heads)\n",
    "        self.pred = nn.Linear(embed_dim, 1)\n",
    "        \n",
    "    def forward(self, x, question_ids):\n",
    "        x, att_weight = self.encoder(x, question_ids)\n",
    "        x = self.pred(x)\n",
    "        return x.squeeze(-1), att_weight\n",
    "\n",
    "\n",
    "class TestDataset(Dataset):\n",
    "    def __init__(self, samples, test_df, n_skill, max_seq=100):\n",
    "        super(TestDataset, self).__init__()\n",
    "        self.samples = samples\n",
    "        self.user_ids = [x for x in test_df[\"user_id\"].unique()]\n",
    "        self.test_df = test_df\n",
    "        self.n_skill, self.max_seq = n_skill, max_seq\n",
    "\n",
    "    def __len__(self):\n",
    "        return self.test_df.shape[0]\n",
    "    \n",
    "    def __getitem__(self, index):\n",
    "        test_info = self.test_df.iloc[index]\n",
    "        \n",
    "        user_id = test_info['user_id']\n",
    "        target_id = test_info['content_id']\n",
    "        \n",
    "        content_id_seq = np.zeros(self.max_seq, dtype=int)\n",
    "        answered_correctly_seq = np.zeros(self.max_seq, dtype=int)\n",
    "        \n",
    "        if user_id in self.samples.index:\n",
    "            content_id, answered_correctly = self.samples[user_id]\n",
    "            \n",
    "            seq_len = len(content_id)\n",
    "            \n",
    "            if seq_len >= self.max_seq:\n",
    "                content_id_seq = content_id[-self.max_seq:]\n",
    "                answered_correctly_seq = answered_correctly[-self.max_seq:]\n",
    "            else:\n",
    "                content_id_seq[-seq_len:] = content_id\n",
    "                answered_correctly_seq[-seq_len:] = answered_correctly\n",
    "                \n",
    "        x = content_id_seq[1:].copy()\n",
    "        x += (answered_correctly_seq[1:] == 1) * self.n_skill\n",
    "        \n",
    "        questions = np.append(content_id_seq[2:], [target_id])\n",
    "        \n",
    "        return x, questions"
   ]
  },
  {
   "cell_type": "code",
   "execution_count": 6,
   "metadata": {},
   "outputs": [
    {
     "output_type": "stream",
     "name": "stdout",
     "text": [
      "\nUsing device: cuda\nCurrent model has 5316071 parameters.\n"
     ]
    },
    {
     "output_type": "execute_result",
     "data": {
      "text/plain": [
       "<All keys matched successfully>"
      ]
     },
     "metadata": {},
     "execution_count": 6
    }
   ],
   "source": [
    "device = torch.device('cuda' if torch.cuda.is_available() else 'cpu')\n",
    "print(f'\\nUsing device: {device}')\n",
    "model_file = MODEL_DIR+'sakt_seq_180_auc_0.7689.pth'\n",
    "model = SAKTModel(n_skill=NUM_SKILLS, \n",
    "                  max_seq=MAX_SEQ, \n",
    "                  embed_dim=EMBED_SIZE, \n",
    "                  forward_expansion=1, \n",
    "                  enc_layers=1, \n",
    "                  heads=NUM_HEADS, \n",
    "                  dropout=DROPOUT)\n",
    "\n",
    "n_params = get_num_params(model)\n",
    "print(f\"Current model has {n_params} parameters.\")\n",
    "        \n",
    "model = model.to(device)\n",
    "model.load_state_dict(torch.load(model_file, map_location=device))"
   ]
  },
  {
   "cell_type": "code",
   "execution_count": 7,
   "metadata": {},
   "outputs": [
    {
     "output_type": "stream",
     "name": "stdout",
     "text": [
      "\u001b[94mLoading private simulated test set: start at 1609943641.584812;\u001b[0m\n",
      "\u001b[92mLOCAL RAM USAGE AT START: 2.92 GB\u001b[0m\n",
      "\u001b[94mLoading private simulated test set:  done at 1609943641.6892245 (0.10 secs elapsed);\u001b[0m\n",
      "\u001b[92mLOCAL RAM USAGE AT END:   3.20GB (+0.28GB)\u001b[0m\n",
      "\n",
      "\n",
      "\u001b[94mloading cv2: start at 1609943641.6899252;\u001b[0m\n",
      "\u001b[92mLOCAL RAM USAGE AT START: 3.20 GB\u001b[0m\n",
      "\u001b[94mloading cv2:  done at 1609943642.4915078 (0.80 secs elapsed);\u001b[0m\n",
      "\u001b[92mLOCAL RAM USAGE AT END:   3.72GB (+0.52GB)\u001b[0m\n",
      "\n",
      "\n"
     ]
    }
   ],
   "source": [
    "# mock test\n",
    "with timer(\"Loading private simulated test set\"):\n",
    "    all_test_df = pd.read_parquet(DATA_DIR+'cv2_valid.parquet')\n",
    "    all_test_df = all_test_df[:DEBUG_TEST_SIZE]\n",
    "\n",
    "all_test_df['answer_correctly_true'] = all_test_df[TARGET]\n",
    "\n",
    "predicted = []\n",
    "def set_predict(df):\n",
    "    predicted.append(df)\n",
    "\n",
    "# reload all user group for cv2\n",
    "with timer('loading cv2'):\n",
    "    with open(os.path.join(DATA_DIR, 'sakt_group_cv2.pickle'), 'rb') as f:\n",
    "        group = pickle.load(f)"
   ]
  },
  {
   "cell_type": "code",
   "execution_count": 8,
   "metadata": {},
   "outputs": [],
   "source": [
    "def iter_env_run(all_test_df, n_iter=1):\n",
    "    '''\n",
    "    Running mock test for n_iter iterations using tito's iter_env simulator and cv2_train user group.\n",
    "    '''\n",
    "    iter_test = Iter_Valid(all_test_df, max_user=1000)\n",
    "    prev_test_df = None\n",
    "    prev_group = None\n",
    "    batch_user_ids = []\n",
    "\n",
    "    # reload all user group for cv2\n",
    "    with open(os.path.join(DATA_DIR, 'sakt_group_cv2.pickle'), 'rb') as f:\n",
    "        group = pickle.load(f)\n",
    "\n",
    "    for _ in range(n_iter):\n",
    "    \n",
    "        test_df, sample_prediction_df = next(iter_test)\n",
    "\n",
    "        if prev_test_df is not None:\n",
    "            prev_test_df['answered_correctly'] = eval(test_df['prior_group_answers_correct'].iloc[0])\n",
    "            prev_test_df = prev_test_df[prev_test_df.content_type_id == False]\n",
    "            prev_group = prev_test_df[['user_id', 'content_id', 'answered_correctly']]\\\n",
    "                                    .groupby('user_id').apply(lambda r: (\n",
    "                                        r['content_id'].values,\n",
    "                                        r['answered_correctly'].values))\n",
    "            for prev_user_id in prev_group.index:\n",
    "                prev_group_content = prev_group[prev_user_id][0]\n",
    "                prev_group_answered_correctly = prev_group[prev_user_id][1]\n",
    "                if prev_user_id in group.index:\n",
    "                    group[prev_user_id] = (np.append(group[prev_user_id][0], prev_group_content), \n",
    "                                        np.append(group[prev_user_id][1], prev_group_answered_correctly))\n",
    "                else:\n",
    "                    group[prev_user_id] = (prev_group_content, prev_group_answered_correctly)\n",
    "\n",
    "                if len(group[prev_user_id][0]) > MAX_SEQ:\n",
    "                    new_group_content = group[prev_user_id][0][-MAX_SEQ:]\n",
    "                    new_group_answered_correctly = group[prev_user_id][1][-MAX_SEQ:]\n",
    "                    group[prev_user_id] = (new_group_content, new_group_answered_correctly)\n",
    "\n",
    "        prev_test_df = test_df.copy()\n",
    "        test_df = test_df[test_df.content_type_id == False]\n",
    "\n",
    "        batch_user_ids.append(test_df.user_id.unique())\n",
    "\n",
    "        test_dataset = TestDataset(group, test_df, NUM_SKILLS, max_seq=MAX_SEQ)\n",
    "        test_dataloader = DataLoader(test_dataset, batch_size=len(test_df), shuffle=False)\n",
    "\n",
    "        item = next(iter(test_dataloader))\n",
    "        x = item[0].to(device).long()\n",
    "        target_id = item[1].to(device).long()\n",
    "\n",
    "        with torch.no_grad():\n",
    "            output, _ = model(x, target_id)\n",
    "\n",
    "        output = torch.sigmoid(output)\n",
    "        preds = output[:, -1]\n",
    "        test_df['answered_correctly'] = preds.cpu().numpy()\n",
    "        set_predict(test_df.loc[test_df['content_type_id'] == 0, \n",
    "                                ['row_id', 'answered_correctly']])\n",
    "\n",
    "    return test_df, prev_test_df, output, item, group, prev_group, batch_user_ids"
   ]
  },
  {
   "source": [
    "## Debugging notes\n",
    "\n",
    "Current set up, cv2_valid first 25k rows\n",
    "first 4 batches common `user_id`: 143316232, 1089397940, 1140583044 (placeholder user?)\n"
   ],
   "cell_type": "markdown",
   "metadata": {}
  },
  {
   "cell_type": "code",
   "execution_count": 9,
   "metadata": {},
   "outputs": [
    {
     "output_type": "execute_result",
     "data": {
      "text/plain": [
       "(array([5551, 5074,  296, 4554, 5192, 6445, 3565,  853,  675, 1315],\n",
       "       dtype=int16),\n",
       " array([1, 1, 1, 0, 0, 1, 1, 1, 1, 0], dtype=int8))"
      ]
     },
     "metadata": {},
     "execution_count": 9
    }
   ],
   "source": [
    "group[1089397940]"
   ]
  },
  {
   "source": [
    "Iteration number 1 in the `iter_env`, the model gives the correct preds."
   ],
   "cell_type": "markdown",
   "metadata": {}
  },
  {
   "cell_type": "code",
   "execution_count": 10,
   "metadata": {},
   "outputs": [
    {
     "output_type": "stream",
     "name": "stdout",
     "text": [
      "local index of user 1089397940: 15 \n\n"
     ]
    },
    {
     "output_type": "execute_result",
     "data": {
      "text/plain": [
       "virtual_timestamp                 68564308947\n",
       "row_id                               51398657\n",
       "timestamp                              404961\n",
       "user_id                            1089397940\n",
       "content_id                              10687\n",
       "content_type_id                             0\n",
       "task_container_id                          10\n",
       "user_answer                                 1\n",
       "answered_correctly                    0.90646\n",
       "prior_question_elapsed_time             17000\n",
       "prior_question_had_explanation           True\n",
       "answer_correctly_true                       1\n",
       "prior_group_responses                      []\n",
       "prior_group_answers_correct                []\n",
       "Name: 15, dtype: object"
      ]
     },
     "metadata": {},
     "execution_count": 10
    }
   ],
   "source": [
    "test_df, prev_test_df, output, item, group_updated, _, _ = iter_env_run(all_test_df, n_iter=1)\n",
    "u_idx_loc = test_df.index.get_loc(test_df[test_df.user_id==1089397940].index[0])\n",
    "print(f\"local index of user 1089397940: {u_idx_loc}\", '\\n')\n",
    "test_df.iloc[u_idx_loc]"
   ]
  },
  {
   "cell_type": "code",
   "execution_count": 11,
   "metadata": {},
   "outputs": [
    {
     "output_type": "execute_result",
     "data": {
      "text/plain": [
       "    virtual_timestamp    row_id    timestamp     user_id  content_id  \\\n",
       "0         68564290161  88274058   1101050579  1878177804        5589   \n",
       "1         68564290523  53804591    908442017  1140583044         773   \n",
       "2         68564295570  90481687   1055420585  1921309771        1875   \n",
       "3         68564295570  90481688   1055420585  1921309771        1876   \n",
       "4         68564295570  90481689   1055420585  1921309771        1874   \n",
       "5         68564295694  30869366   4666240497   661776423         703   \n",
       "6         68564297749  67419008  34211239598  1434239202        9611   \n",
       "7         68564302590  99211180    409311647  2104957435        3992   \n",
       "8         68564305121  79224568  61247394278  1686819041        9836   \n",
       "9         68564305686  89389150      1348681  1899558787        7216   \n",
       "10        68564305686  89389151      1348681  1899558787        7218   \n",
       "11        68564305686  89389152      1348681  1899558787        7217   \n",
       "12        68564305686  89389153      1348681  1899558787        7219   \n",
       "13        68564305690  82916534   8065197700  1766223056        3854   \n",
       "14        68564308419  60118377   8205926140  1276214690        4511   \n",
       "15        68564308947  51398657       404961  1089397940       10687   \n",
       "16        68564309669  73310717            0  1559547677        4913   \n",
       "17        68564309671  23756313  31737239770   508291120        5980   \n",
       "18        68564310496   6572818     26101020   143316232        4020   \n",
       "19        68564311564  76192319  27966022451  1622222452        7147   \n",
       "20        68564311564  76192320  27966022451  1622222452        7146   \n",
       "21        68564311564  76192321  27966022451  1622222452        7149   \n",
       "22        68564311564  76192322  27966022451  1622222452        7148   \n",
       "23        68564311564  76192323  27966022451  1622222452        7145   \n",
       "24        68564311611  79509640    804794161  1693026219        4498   \n",
       "25        68564311918  50632496     17394621  1072148405        4340   \n",
       "26        68564313984  26690543  12621305028   569284843        1945   \n",
       "27        68564313984  26690544  12621305028   569284843        1944   \n",
       "28        68564313984  26690545  12621305028   569284843        1943   \n",
       "29        68564321435  74956552  23779160794  1594670332       12142   \n",
       "30        68564321933   3508359   1468871445    75209895        6247   \n",
       "31        68564322981  52786659     95157734  1118911890        1399   \n",
       "32        68564323657  37525864   1645684257   801324215        2849   \n",
       "33        68564323657  37525865   1645684257   801324215        2850   \n",
       "34        68564323657  37525866   1645684257   801324215        2848   \n",
       "35        68564326743  31853255    423761165   683264016        6839   \n",
       "36        68564326743  31853256    423761165   683264016        6840   \n",
       "37        68564326743  31853257    423761165   683264016        6837   \n",
       "38        68564326743  31853258    423761165   683264016        6838   \n",
       "39        68564327096  30215620  11412893466   648079731         541   \n",
       "\n",
       "    content_type_id  task_container_id  user_answer  answered_correctly  \\\n",
       "0                 0                149            2            0.662049   \n",
       "1                 0                 65            3            0.413031   \n",
       "2                 0               1034            1            0.805930   \n",
       "3                 0               1034            0            0.560809   \n",
       "4                 0               1034            2            0.747822   \n",
       "5                 0                263            0            0.807548   \n",
       "6                 0                573            2            0.790535   \n",
       "7                 0                 70            0            0.901264   \n",
       "8                 0               3304            2            0.225786   \n",
       "9                 0                 15            0            0.249552   \n",
       "10                0                 15            2            0.236560   \n",
       "11                0                 15            2            0.259665   \n",
       "12                0                 15            3            0.127663   \n",
       "13                0                422            0            0.373577   \n",
       "14                0               3499            0            0.725308   \n",
       "15                0                 10            1            0.906460   \n",
       "16                0                  0            1            0.400682   \n",
       "17                0                132            1            0.093345   \n",
       "18                0                 68            2            0.316038   \n",
       "19                0               3486            2            0.440320   \n",
       "20                0               3486            1            0.639495   \n",
       "21                0               3486            0            0.961433   \n",
       "22                0               3486            1            0.586470   \n",
       "23                0               3486            2            0.917349   \n",
       "24                0                209            2            0.660375   \n",
       "25                0                 38            2            0.710600   \n",
       "26                0                500            1            0.766915   \n",
       "27                0                500            1            0.725103   \n",
       "28                0                500            3            0.951520   \n",
       "29                0                 92            1            0.585021   \n",
       "30                0                 53            3            0.662496   \n",
       "31                0                 75            1            0.889467   \n",
       "32                0                338            1            0.965277   \n",
       "33                0                338            1            0.521122   \n",
       "34                0                338            1            0.917357   \n",
       "35                0                518            0            0.989159   \n",
       "36                0                518            1            0.930094   \n",
       "37                0                518            0            0.841052   \n",
       "38                0                518            3            0.882993   \n",
       "39                0                874            3            0.713193   \n",
       "\n",
       "    prior_question_elapsed_time prior_question_had_explanation  \\\n",
       "0                           NaN                           None   \n",
       "1                       17000.0                           True   \n",
       "2                       24333.0                           True   \n",
       "3                       24333.0                           True   \n",
       "4                       24333.0                           True   \n",
       "5                       19000.0                           True   \n",
       "6                       14000.0                           True   \n",
       "7                       13000.0                           True   \n",
       "8                       64000.0                           True   \n",
       "9                       27000.0                          False   \n",
       "10                      27000.0                          False   \n",
       "11                      27000.0                          False   \n",
       "12                      27000.0                          False   \n",
       "13                      31000.0                           True   \n",
       "14                      33000.0                           True   \n",
       "15                      17000.0                           True   \n",
       "16                          0.0                          False   \n",
       "17                      72000.0                           True   \n",
       "18                      12000.0                           True   \n",
       "19                      34000.0                           True   \n",
       "20                      34000.0                           True   \n",
       "21                      34000.0                           True   \n",
       "22                      34000.0                           True   \n",
       "23                      34000.0                           True   \n",
       "24                      14000.0                           True   \n",
       "25                      16000.0                           True   \n",
       "26                      24333.0                           True   \n",
       "27                      24333.0                           True   \n",
       "28                      24333.0                           True   \n",
       "29                      17000.0                           True   \n",
       "30                          NaN                           None   \n",
       "31                      14000.0                           True   \n",
       "32                      28333.0                           True   \n",
       "33                      28333.0                           True   \n",
       "34                      28333.0                           True   \n",
       "35                      47000.0                           True   \n",
       "36                      47000.0                           True   \n",
       "37                      47000.0                           True   \n",
       "38                      47000.0                           True   \n",
       "39                      17000.0                           True   \n",
       "\n",
       "    answer_correctly_true prior_group_responses prior_group_answers_correct  \n",
       "0                       0                    []                          []  \n",
       "1                       0                    []                          []  \n",
       "2                       1                    []                          []  \n",
       "3                       0                    []                          []  \n",
       "4                       1                    []                          []  \n",
       "5                       1                    []                          []  \n",
       "6                       1                    []                          []  \n",
       "7                       1                    []                          []  \n",
       "8                       0                    []                          []  \n",
       "9                       0                    []                          []  \n",
       "10                      1                    []                          []  \n",
       "11                      1                    []                          []  \n",
       "12                      0                    []                          []  \n",
       "13                      0                    []                          []  \n",
       "14                      1                    []                          []  \n",
       "15                      1                    []                          []  \n",
       "16                      1                    []                          []  \n",
       "17                      0                    []                          []  \n",
       "18                      1                    []                          []  \n",
       "19                      1                    []                          []  \n",
       "20                      1                    []                          []  \n",
       "21                      1                    []                          []  \n",
       "22                      1                    []                          []  \n",
       "23                      1                    []                          []  \n",
       "24                      1                    []                          []  \n",
       "25                      0                    []                          []  \n",
       "26                      1                    []                          []  \n",
       "27                      1                    []                          []  \n",
       "28                      1                    []                          []  \n",
       "29                      1                    []                          []  \n",
       "30                      0                    []                          []  \n",
       "31                      1                    []                          []  \n",
       "32                      1                    []                          []  \n",
       "33                      0                    []                          []  \n",
       "34                      1                    []                          []  \n",
       "35                      1                    []                          []  \n",
       "36                      1                    []                          []  \n",
       "37                      0                    []                          []  \n",
       "38                      1                    []                          []  \n",
       "39                      1                    []                          []  "
      ],
      "text/html": "<div>\n<style scoped>\n    .dataframe tbody tr th:only-of-type {\n        vertical-align: middle;\n    }\n\n    .dataframe tbody tr th {\n        vertical-align: top;\n    }\n\n    .dataframe thead th {\n        text-align: right;\n    }\n</style>\n<table border=\"1\" class=\"dataframe\">\n  <thead>\n    <tr style=\"text-align: right;\">\n      <th></th>\n      <th>virtual_timestamp</th>\n      <th>row_id</th>\n      <th>timestamp</th>\n      <th>user_id</th>\n      <th>content_id</th>\n      <th>content_type_id</th>\n      <th>task_container_id</th>\n      <th>user_answer</th>\n      <th>answered_correctly</th>\n      <th>prior_question_elapsed_time</th>\n      <th>prior_question_had_explanation</th>\n      <th>answer_correctly_true</th>\n      <th>prior_group_responses</th>\n      <th>prior_group_answers_correct</th>\n    </tr>\n  </thead>\n  <tbody>\n    <tr>\n      <th>0</th>\n      <td>68564290161</td>\n      <td>88274058</td>\n      <td>1101050579</td>\n      <td>1878177804</td>\n      <td>5589</td>\n      <td>0</td>\n      <td>149</td>\n      <td>2</td>\n      <td>0.662049</td>\n      <td>NaN</td>\n      <td>None</td>\n      <td>0</td>\n      <td>[]</td>\n      <td>[]</td>\n    </tr>\n    <tr>\n      <th>1</th>\n      <td>68564290523</td>\n      <td>53804591</td>\n      <td>908442017</td>\n      <td>1140583044</td>\n      <td>773</td>\n      <td>0</td>\n      <td>65</td>\n      <td>3</td>\n      <td>0.413031</td>\n      <td>17000.0</td>\n      <td>True</td>\n      <td>0</td>\n      <td>[]</td>\n      <td>[]</td>\n    </tr>\n    <tr>\n      <th>2</th>\n      <td>68564295570</td>\n      <td>90481687</td>\n      <td>1055420585</td>\n      <td>1921309771</td>\n      <td>1875</td>\n      <td>0</td>\n      <td>1034</td>\n      <td>1</td>\n      <td>0.805930</td>\n      <td>24333.0</td>\n      <td>True</td>\n      <td>1</td>\n      <td>[]</td>\n      <td>[]</td>\n    </tr>\n    <tr>\n      <th>3</th>\n      <td>68564295570</td>\n      <td>90481688</td>\n      <td>1055420585</td>\n      <td>1921309771</td>\n      <td>1876</td>\n      <td>0</td>\n      <td>1034</td>\n      <td>0</td>\n      <td>0.560809</td>\n      <td>24333.0</td>\n      <td>True</td>\n      <td>0</td>\n      <td>[]</td>\n      <td>[]</td>\n    </tr>\n    <tr>\n      <th>4</th>\n      <td>68564295570</td>\n      <td>90481689</td>\n      <td>1055420585</td>\n      <td>1921309771</td>\n      <td>1874</td>\n      <td>0</td>\n      <td>1034</td>\n      <td>2</td>\n      <td>0.747822</td>\n      <td>24333.0</td>\n      <td>True</td>\n      <td>1</td>\n      <td>[]</td>\n      <td>[]</td>\n    </tr>\n    <tr>\n      <th>5</th>\n      <td>68564295694</td>\n      <td>30869366</td>\n      <td>4666240497</td>\n      <td>661776423</td>\n      <td>703</td>\n      <td>0</td>\n      <td>263</td>\n      <td>0</td>\n      <td>0.807548</td>\n      <td>19000.0</td>\n      <td>True</td>\n      <td>1</td>\n      <td>[]</td>\n      <td>[]</td>\n    </tr>\n    <tr>\n      <th>6</th>\n      <td>68564297749</td>\n      <td>67419008</td>\n      <td>34211239598</td>\n      <td>1434239202</td>\n      <td>9611</td>\n      <td>0</td>\n      <td>573</td>\n      <td>2</td>\n      <td>0.790535</td>\n      <td>14000.0</td>\n      <td>True</td>\n      <td>1</td>\n      <td>[]</td>\n      <td>[]</td>\n    </tr>\n    <tr>\n      <th>7</th>\n      <td>68564302590</td>\n      <td>99211180</td>\n      <td>409311647</td>\n      <td>2104957435</td>\n      <td>3992</td>\n      <td>0</td>\n      <td>70</td>\n      <td>0</td>\n      <td>0.901264</td>\n      <td>13000.0</td>\n      <td>True</td>\n      <td>1</td>\n      <td>[]</td>\n      <td>[]</td>\n    </tr>\n    <tr>\n      <th>8</th>\n      <td>68564305121</td>\n      <td>79224568</td>\n      <td>61247394278</td>\n      <td>1686819041</td>\n      <td>9836</td>\n      <td>0</td>\n      <td>3304</td>\n      <td>2</td>\n      <td>0.225786</td>\n      <td>64000.0</td>\n      <td>True</td>\n      <td>0</td>\n      <td>[]</td>\n      <td>[]</td>\n    </tr>\n    <tr>\n      <th>9</th>\n      <td>68564305686</td>\n      <td>89389150</td>\n      <td>1348681</td>\n      <td>1899558787</td>\n      <td>7216</td>\n      <td>0</td>\n      <td>15</td>\n      <td>0</td>\n      <td>0.249552</td>\n      <td>27000.0</td>\n      <td>False</td>\n      <td>0</td>\n      <td>[]</td>\n      <td>[]</td>\n    </tr>\n    <tr>\n      <th>10</th>\n      <td>68564305686</td>\n      <td>89389151</td>\n      <td>1348681</td>\n      <td>1899558787</td>\n      <td>7218</td>\n      <td>0</td>\n      <td>15</td>\n      <td>2</td>\n      <td>0.236560</td>\n      <td>27000.0</td>\n      <td>False</td>\n      <td>1</td>\n      <td>[]</td>\n      <td>[]</td>\n    </tr>\n    <tr>\n      <th>11</th>\n      <td>68564305686</td>\n      <td>89389152</td>\n      <td>1348681</td>\n      <td>1899558787</td>\n      <td>7217</td>\n      <td>0</td>\n      <td>15</td>\n      <td>2</td>\n      <td>0.259665</td>\n      <td>27000.0</td>\n      <td>False</td>\n      <td>1</td>\n      <td>[]</td>\n      <td>[]</td>\n    </tr>\n    <tr>\n      <th>12</th>\n      <td>68564305686</td>\n      <td>89389153</td>\n      <td>1348681</td>\n      <td>1899558787</td>\n      <td>7219</td>\n      <td>0</td>\n      <td>15</td>\n      <td>3</td>\n      <td>0.127663</td>\n      <td>27000.0</td>\n      <td>False</td>\n      <td>0</td>\n      <td>[]</td>\n      <td>[]</td>\n    </tr>\n    <tr>\n      <th>13</th>\n      <td>68564305690</td>\n      <td>82916534</td>\n      <td>8065197700</td>\n      <td>1766223056</td>\n      <td>3854</td>\n      <td>0</td>\n      <td>422</td>\n      <td>0</td>\n      <td>0.373577</td>\n      <td>31000.0</td>\n      <td>True</td>\n      <td>0</td>\n      <td>[]</td>\n      <td>[]</td>\n    </tr>\n    <tr>\n      <th>14</th>\n      <td>68564308419</td>\n      <td>60118377</td>\n      <td>8205926140</td>\n      <td>1276214690</td>\n      <td>4511</td>\n      <td>0</td>\n      <td>3499</td>\n      <td>0</td>\n      <td>0.725308</td>\n      <td>33000.0</td>\n      <td>True</td>\n      <td>1</td>\n      <td>[]</td>\n      <td>[]</td>\n    </tr>\n    <tr>\n      <th>15</th>\n      <td>68564308947</td>\n      <td>51398657</td>\n      <td>404961</td>\n      <td>1089397940</td>\n      <td>10687</td>\n      <td>0</td>\n      <td>10</td>\n      <td>1</td>\n      <td>0.906460</td>\n      <td>17000.0</td>\n      <td>True</td>\n      <td>1</td>\n      <td>[]</td>\n      <td>[]</td>\n    </tr>\n    <tr>\n      <th>16</th>\n      <td>68564309669</td>\n      <td>73310717</td>\n      <td>0</td>\n      <td>1559547677</td>\n      <td>4913</td>\n      <td>0</td>\n      <td>0</td>\n      <td>1</td>\n      <td>0.400682</td>\n      <td>0.0</td>\n      <td>False</td>\n      <td>1</td>\n      <td>[]</td>\n      <td>[]</td>\n    </tr>\n    <tr>\n      <th>17</th>\n      <td>68564309671</td>\n      <td>23756313</td>\n      <td>31737239770</td>\n      <td>508291120</td>\n      <td>5980</td>\n      <td>0</td>\n      <td>132</td>\n      <td>1</td>\n      <td>0.093345</td>\n      <td>72000.0</td>\n      <td>True</td>\n      <td>0</td>\n      <td>[]</td>\n      <td>[]</td>\n    </tr>\n    <tr>\n      <th>18</th>\n      <td>68564310496</td>\n      <td>6572818</td>\n      <td>26101020</td>\n      <td>143316232</td>\n      <td>4020</td>\n      <td>0</td>\n      <td>68</td>\n      <td>2</td>\n      <td>0.316038</td>\n      <td>12000.0</td>\n      <td>True</td>\n      <td>1</td>\n      <td>[]</td>\n      <td>[]</td>\n    </tr>\n    <tr>\n      <th>19</th>\n      <td>68564311564</td>\n      <td>76192319</td>\n      <td>27966022451</td>\n      <td>1622222452</td>\n      <td>7147</td>\n      <td>0</td>\n      <td>3486</td>\n      <td>2</td>\n      <td>0.440320</td>\n      <td>34000.0</td>\n      <td>True</td>\n      <td>1</td>\n      <td>[]</td>\n      <td>[]</td>\n    </tr>\n    <tr>\n      <th>20</th>\n      <td>68564311564</td>\n      <td>76192320</td>\n      <td>27966022451</td>\n      <td>1622222452</td>\n      <td>7146</td>\n      <td>0</td>\n      <td>3486</td>\n      <td>1</td>\n      <td>0.639495</td>\n      <td>34000.0</td>\n      <td>True</td>\n      <td>1</td>\n      <td>[]</td>\n      <td>[]</td>\n    </tr>\n    <tr>\n      <th>21</th>\n      <td>68564311564</td>\n      <td>76192321</td>\n      <td>27966022451</td>\n      <td>1622222452</td>\n      <td>7149</td>\n      <td>0</td>\n      <td>3486</td>\n      <td>0</td>\n      <td>0.961433</td>\n      <td>34000.0</td>\n      <td>True</td>\n      <td>1</td>\n      <td>[]</td>\n      <td>[]</td>\n    </tr>\n    <tr>\n      <th>22</th>\n      <td>68564311564</td>\n      <td>76192322</td>\n      <td>27966022451</td>\n      <td>1622222452</td>\n      <td>7148</td>\n      <td>0</td>\n      <td>3486</td>\n      <td>1</td>\n      <td>0.586470</td>\n      <td>34000.0</td>\n      <td>True</td>\n      <td>1</td>\n      <td>[]</td>\n      <td>[]</td>\n    </tr>\n    <tr>\n      <th>23</th>\n      <td>68564311564</td>\n      <td>76192323</td>\n      <td>27966022451</td>\n      <td>1622222452</td>\n      <td>7145</td>\n      <td>0</td>\n      <td>3486</td>\n      <td>2</td>\n      <td>0.917349</td>\n      <td>34000.0</td>\n      <td>True</td>\n      <td>1</td>\n      <td>[]</td>\n      <td>[]</td>\n    </tr>\n    <tr>\n      <th>24</th>\n      <td>68564311611</td>\n      <td>79509640</td>\n      <td>804794161</td>\n      <td>1693026219</td>\n      <td>4498</td>\n      <td>0</td>\n      <td>209</td>\n      <td>2</td>\n      <td>0.660375</td>\n      <td>14000.0</td>\n      <td>True</td>\n      <td>1</td>\n      <td>[]</td>\n      <td>[]</td>\n    </tr>\n    <tr>\n      <th>25</th>\n      <td>68564311918</td>\n      <td>50632496</td>\n      <td>17394621</td>\n      <td>1072148405</td>\n      <td>4340</td>\n      <td>0</td>\n      <td>38</td>\n      <td>2</td>\n      <td>0.710600</td>\n      <td>16000.0</td>\n      <td>True</td>\n      <td>0</td>\n      <td>[]</td>\n      <td>[]</td>\n    </tr>\n    <tr>\n      <th>26</th>\n      <td>68564313984</td>\n      <td>26690543</td>\n      <td>12621305028</td>\n      <td>569284843</td>\n      <td>1945</td>\n      <td>0</td>\n      <td>500</td>\n      <td>1</td>\n      <td>0.766915</td>\n      <td>24333.0</td>\n      <td>True</td>\n      <td>1</td>\n      <td>[]</td>\n      <td>[]</td>\n    </tr>\n    <tr>\n      <th>27</th>\n      <td>68564313984</td>\n      <td>26690544</td>\n      <td>12621305028</td>\n      <td>569284843</td>\n      <td>1944</td>\n      <td>0</td>\n      <td>500</td>\n      <td>1</td>\n      <td>0.725103</td>\n      <td>24333.0</td>\n      <td>True</td>\n      <td>1</td>\n      <td>[]</td>\n      <td>[]</td>\n    </tr>\n    <tr>\n      <th>28</th>\n      <td>68564313984</td>\n      <td>26690545</td>\n      <td>12621305028</td>\n      <td>569284843</td>\n      <td>1943</td>\n      <td>0</td>\n      <td>500</td>\n      <td>3</td>\n      <td>0.951520</td>\n      <td>24333.0</td>\n      <td>True</td>\n      <td>1</td>\n      <td>[]</td>\n      <td>[]</td>\n    </tr>\n    <tr>\n      <th>29</th>\n      <td>68564321435</td>\n      <td>74956552</td>\n      <td>23779160794</td>\n      <td>1594670332</td>\n      <td>12142</td>\n      <td>0</td>\n      <td>92</td>\n      <td>1</td>\n      <td>0.585021</td>\n      <td>17000.0</td>\n      <td>True</td>\n      <td>1</td>\n      <td>[]</td>\n      <td>[]</td>\n    </tr>\n    <tr>\n      <th>30</th>\n      <td>68564321933</td>\n      <td>3508359</td>\n      <td>1468871445</td>\n      <td>75209895</td>\n      <td>6247</td>\n      <td>0</td>\n      <td>53</td>\n      <td>3</td>\n      <td>0.662496</td>\n      <td>NaN</td>\n      <td>None</td>\n      <td>0</td>\n      <td>[]</td>\n      <td>[]</td>\n    </tr>\n    <tr>\n      <th>31</th>\n      <td>68564322981</td>\n      <td>52786659</td>\n      <td>95157734</td>\n      <td>1118911890</td>\n      <td>1399</td>\n      <td>0</td>\n      <td>75</td>\n      <td>1</td>\n      <td>0.889467</td>\n      <td>14000.0</td>\n      <td>True</td>\n      <td>1</td>\n      <td>[]</td>\n      <td>[]</td>\n    </tr>\n    <tr>\n      <th>32</th>\n      <td>68564323657</td>\n      <td>37525864</td>\n      <td>1645684257</td>\n      <td>801324215</td>\n      <td>2849</td>\n      <td>0</td>\n      <td>338</td>\n      <td>1</td>\n      <td>0.965277</td>\n      <td>28333.0</td>\n      <td>True</td>\n      <td>1</td>\n      <td>[]</td>\n      <td>[]</td>\n    </tr>\n    <tr>\n      <th>33</th>\n      <td>68564323657</td>\n      <td>37525865</td>\n      <td>1645684257</td>\n      <td>801324215</td>\n      <td>2850</td>\n      <td>0</td>\n      <td>338</td>\n      <td>1</td>\n      <td>0.521122</td>\n      <td>28333.0</td>\n      <td>True</td>\n      <td>0</td>\n      <td>[]</td>\n      <td>[]</td>\n    </tr>\n    <tr>\n      <th>34</th>\n      <td>68564323657</td>\n      <td>37525866</td>\n      <td>1645684257</td>\n      <td>801324215</td>\n      <td>2848</td>\n      <td>0</td>\n      <td>338</td>\n      <td>1</td>\n      <td>0.917357</td>\n      <td>28333.0</td>\n      <td>True</td>\n      <td>1</td>\n      <td>[]</td>\n      <td>[]</td>\n    </tr>\n    <tr>\n      <th>35</th>\n      <td>68564326743</td>\n      <td>31853255</td>\n      <td>423761165</td>\n      <td>683264016</td>\n      <td>6839</td>\n      <td>0</td>\n      <td>518</td>\n      <td>0</td>\n      <td>0.989159</td>\n      <td>47000.0</td>\n      <td>True</td>\n      <td>1</td>\n      <td>[]</td>\n      <td>[]</td>\n    </tr>\n    <tr>\n      <th>36</th>\n      <td>68564326743</td>\n      <td>31853256</td>\n      <td>423761165</td>\n      <td>683264016</td>\n      <td>6840</td>\n      <td>0</td>\n      <td>518</td>\n      <td>1</td>\n      <td>0.930094</td>\n      <td>47000.0</td>\n      <td>True</td>\n      <td>1</td>\n      <td>[]</td>\n      <td>[]</td>\n    </tr>\n    <tr>\n      <th>37</th>\n      <td>68564326743</td>\n      <td>31853257</td>\n      <td>423761165</td>\n      <td>683264016</td>\n      <td>6837</td>\n      <td>0</td>\n      <td>518</td>\n      <td>0</td>\n      <td>0.841052</td>\n      <td>47000.0</td>\n      <td>True</td>\n      <td>0</td>\n      <td>[]</td>\n      <td>[]</td>\n    </tr>\n    <tr>\n      <th>38</th>\n      <td>68564326743</td>\n      <td>31853258</td>\n      <td>423761165</td>\n      <td>683264016</td>\n      <td>6838</td>\n      <td>0</td>\n      <td>518</td>\n      <td>3</td>\n      <td>0.882993</td>\n      <td>47000.0</td>\n      <td>True</td>\n      <td>1</td>\n      <td>[]</td>\n      <td>[]</td>\n    </tr>\n    <tr>\n      <th>39</th>\n      <td>68564327096</td>\n      <td>30215620</td>\n      <td>11412893466</td>\n      <td>648079731</td>\n      <td>541</td>\n      <td>0</td>\n      <td>874</td>\n      <td>3</td>\n      <td>0.713193</td>\n      <td>17000.0</td>\n      <td>True</td>\n      <td>1</td>\n      <td>[]</td>\n      <td>[]</td>\n    </tr>\n  </tbody>\n</table>\n</div>"
     },
     "metadata": {},
     "execution_count": 11
    }
   ],
   "source": [
    "test_df"
   ]
  },
  {
   "cell_type": "code",
   "execution_count": 12,
   "metadata": {},
   "outputs": [
    {
     "output_type": "stream",
     "name": "stdout",
     "text": [
      "tensor([    0,  5551,  5074,   296,  4554,  5192,  6445,  3565,   853,   675,\n         1315, 10687])\ntensor([    0,     0, 19074, 18597, 13819,  4554,  5192, 19968, 17088, 14376,\n        14198,  1315])\n[0.5443989  0.31052786 0.6453548  0.7576913  0.7659588  0.39360327\n 0.5405494  0.6249994  0.3041437  0.6415931  0.28815264 0.90646034] \n\n[5551 5074  296 4554 5192 6445 3565  853  675 1315]\n[1 1 1 0 0 1 1 1 1 0]\n"
     ]
    }
   ],
   "source": [
    "print(item[1][u_idx_loc, -12:]) # user 1089397940 first batch in example_test (question sequence)\n",
    "print(item[0][u_idx_loc, -12:]) # user 1089397940 first batch in example_test: skill sequence = prev_content_id * (correct or not) + 13523\n",
    "print(output[u_idx_loc, -12:].cpu().numpy(),'\\n') # user 1089397940 probability prediction\n",
    "\n",
    "print(group_updated[1089397940][0][:12]) # in the first iteration the length is only 11\n",
    "print(group_updated[1089397940][1][:12])"
   ]
  },
  {
   "source": [
    "Iteration number 2"
   ],
   "cell_type": "markdown",
   "metadata": {}
  },
  {
   "cell_type": "code",
   "execution_count": 13,
   "metadata": {},
   "outputs": [
    {
     "output_type": "stream",
     "name": "stdout",
     "text": [
      "local index of user 1089397940: 3 \n\n"
     ]
    },
    {
     "output_type": "execute_result",
     "data": {
      "text/plain": [
       "virtual_timestamp                 68564332056\n",
       "row_id                               51398658\n",
       "timestamp                              428070\n",
       "user_id                            1089397940\n",
       "content_id                                412\n",
       "content_type_id                             0\n",
       "task_container_id                          11\n",
       "user_answer                                 3\n",
       "answered_correctly                   0.768928\n",
       "prior_question_elapsed_time             13000\n",
       "prior_question_had_explanation           True\n",
       "answer_correctly_true                       1\n",
       "prior_group_responses                      []\n",
       "prior_group_answers_correct                []\n",
       "Name: 43, dtype: object"
      ]
     },
     "metadata": {},
     "execution_count": 13
    }
   ],
   "source": [
    "test_df, prev_test_df, output, item, group_updated, _, _ = iter_env_run(all_test_df, n_iter=2)\n",
    "u_idx_loc = test_df.index.get_loc(test_df[test_df.user_id==1089397940].index[0])\n",
    "print(f\"local index of user 1089397940: {u_idx_loc}\", '\\n')\n",
    "test_df.iloc[u_idx_loc]"
   ]
  },
  {
   "cell_type": "code",
   "execution_count": 15,
   "metadata": {},
   "outputs": [
    {
     "output_type": "execute_result",
     "data": {
      "text/plain": [
       "    virtual_timestamp    row_id    timestamp     user_id  content_id  \\\n",
       "40        68564329112  53804592    908480606  1140583044         506   \n",
       "41        68564329267  95275628  29264804479  2021767860         410   \n",
       "42        68564331305   6572819     26121829   143316232        9286   \n",
       "43        68564332056  51398658       428070  1089397940         412   \n",
       "44        68564332455  66597784   2677732279  1414737602        4749   \n",
       "45        68564333633  67419009  34211275482  1434239202        5609   \n",
       "46        68564334407   3468134  20730160405    74557183         967   \n",
       "47        68564338410  28170520      1862294   601496437       11315   \n",
       "48        68564341539  76708022  18482569556  1633230783         839   \n",
       "49        68564342822  50632497     17425525  1072148405        3944   \n",
       "50        68564342888  89677237   1353682177  1905467642        4308   \n",
       "51        68564346724  99211181    409355781  2104957435        6669   \n",
       "\n",
       "    content_type_id  task_container_id  user_answer  answered_correctly  \\\n",
       "40                0                 66            3            0.729357   \n",
       "41                0                991            3            0.817400   \n",
       "42                0                 69            0            0.485461   \n",
       "43                0                 11            3            0.768928   \n",
       "44                0               1504            2            0.215250   \n",
       "45                0                574            3            0.901013   \n",
       "46                0               1102            1            0.433433   \n",
       "47                0                 24            2            0.327710   \n",
       "48                0               5041            0            0.695190   \n",
       "49                0                 39            0            0.384739   \n",
       "50                0                 36            1            0.252286   \n",
       "51                0                 71            0            0.713251   \n",
       "\n",
       "    prior_question_elapsed_time prior_question_had_explanation  \\\n",
       "40                      19000.0                           True   \n",
       "41                      19000.0                           True   \n",
       "42                      37000.0                           True   \n",
       "43                      13000.0                           True   \n",
       "44                      30000.0                           True   \n",
       "45                      27000.0                           True   \n",
       "46                      28666.0                           True   \n",
       "47                      41000.0                           True   \n",
       "48                      15000.0                           True   \n",
       "49                      27000.0                           True   \n",
       "50                      50000.0                           True   \n",
       "51                      29000.0                           True   \n",
       "\n",
       "    answer_correctly_true                              prior_group_responses  \\\n",
       "40                      1  [2,3,1,0,2,0,2,0,2,0,2,2,3,0,0,1,1,1,2,2,1,0,1...   \n",
       "41                      1                                                 []   \n",
       "42                      0                                                 []   \n",
       "43                      1                                                 []   \n",
       "44                      1                                                 []   \n",
       "45                      1                                                 []   \n",
       "46                      1                                                 []   \n",
       "47                      0                                                 []   \n",
       "48                      1                                                 []   \n",
       "49                      1                                                 []   \n",
       "50                      0                                                 []   \n",
       "51                      1                                                 []   \n",
       "\n",
       "                          prior_group_answers_correct  \n",
       "40  [0,0,1,0,1,1,1,1,0,0,1,1,0,0,1,1,1,0,1,1,1,1,1...  \n",
       "41                                                 []  \n",
       "42                                                 []  \n",
       "43                                                 []  \n",
       "44                                                 []  \n",
       "45                                                 []  \n",
       "46                                                 []  \n",
       "47                                                 []  \n",
       "48                                                 []  \n",
       "49                                                 []  \n",
       "50                                                 []  \n",
       "51                                                 []  "
      ],
      "text/html": "<div>\n<style scoped>\n    .dataframe tbody tr th:only-of-type {\n        vertical-align: middle;\n    }\n\n    .dataframe tbody tr th {\n        vertical-align: top;\n    }\n\n    .dataframe thead th {\n        text-align: right;\n    }\n</style>\n<table border=\"1\" class=\"dataframe\">\n  <thead>\n    <tr style=\"text-align: right;\">\n      <th></th>\n      <th>virtual_timestamp</th>\n      <th>row_id</th>\n      <th>timestamp</th>\n      <th>user_id</th>\n      <th>content_id</th>\n      <th>content_type_id</th>\n      <th>task_container_id</th>\n      <th>user_answer</th>\n      <th>answered_correctly</th>\n      <th>prior_question_elapsed_time</th>\n      <th>prior_question_had_explanation</th>\n      <th>answer_correctly_true</th>\n      <th>prior_group_responses</th>\n      <th>prior_group_answers_correct</th>\n    </tr>\n  </thead>\n  <tbody>\n    <tr>\n      <th>40</th>\n      <td>68564329112</td>\n      <td>53804592</td>\n      <td>908480606</td>\n      <td>1140583044</td>\n      <td>506</td>\n      <td>0</td>\n      <td>66</td>\n      <td>3</td>\n      <td>0.729357</td>\n      <td>19000.0</td>\n      <td>True</td>\n      <td>1</td>\n      <td>[2,3,1,0,2,0,2,0,2,0,2,2,3,0,0,1,1,1,2,2,1,0,1...</td>\n      <td>[0,0,1,0,1,1,1,1,0,0,1,1,0,0,1,1,1,0,1,1,1,1,1...</td>\n    </tr>\n    <tr>\n      <th>41</th>\n      <td>68564329267</td>\n      <td>95275628</td>\n      <td>29264804479</td>\n      <td>2021767860</td>\n      <td>410</td>\n      <td>0</td>\n      <td>991</td>\n      <td>3</td>\n      <td>0.817400</td>\n      <td>19000.0</td>\n      <td>True</td>\n      <td>1</td>\n      <td>[]</td>\n      <td>[]</td>\n    </tr>\n    <tr>\n      <th>42</th>\n      <td>68564331305</td>\n      <td>6572819</td>\n      <td>26121829</td>\n      <td>143316232</td>\n      <td>9286</td>\n      <td>0</td>\n      <td>69</td>\n      <td>0</td>\n      <td>0.485461</td>\n      <td>37000.0</td>\n      <td>True</td>\n      <td>0</td>\n      <td>[]</td>\n      <td>[]</td>\n    </tr>\n    <tr>\n      <th>43</th>\n      <td>68564332056</td>\n      <td>51398658</td>\n      <td>428070</td>\n      <td>1089397940</td>\n      <td>412</td>\n      <td>0</td>\n      <td>11</td>\n      <td>3</td>\n      <td>0.768928</td>\n      <td>13000.0</td>\n      <td>True</td>\n      <td>1</td>\n      <td>[]</td>\n      <td>[]</td>\n    </tr>\n    <tr>\n      <th>44</th>\n      <td>68564332455</td>\n      <td>66597784</td>\n      <td>2677732279</td>\n      <td>1414737602</td>\n      <td>4749</td>\n      <td>0</td>\n      <td>1504</td>\n      <td>2</td>\n      <td>0.215250</td>\n      <td>30000.0</td>\n      <td>True</td>\n      <td>1</td>\n      <td>[]</td>\n      <td>[]</td>\n    </tr>\n    <tr>\n      <th>45</th>\n      <td>68564333633</td>\n      <td>67419009</td>\n      <td>34211275482</td>\n      <td>1434239202</td>\n      <td>5609</td>\n      <td>0</td>\n      <td>574</td>\n      <td>3</td>\n      <td>0.901013</td>\n      <td>27000.0</td>\n      <td>True</td>\n      <td>1</td>\n      <td>[]</td>\n      <td>[]</td>\n    </tr>\n    <tr>\n      <th>46</th>\n      <td>68564334407</td>\n      <td>3468134</td>\n      <td>20730160405</td>\n      <td>74557183</td>\n      <td>967</td>\n      <td>0</td>\n      <td>1102</td>\n      <td>1</td>\n      <td>0.433433</td>\n      <td>28666.0</td>\n      <td>True</td>\n      <td>1</td>\n      <td>[]</td>\n      <td>[]</td>\n    </tr>\n    <tr>\n      <th>47</th>\n      <td>68564338410</td>\n      <td>28170520</td>\n      <td>1862294</td>\n      <td>601496437</td>\n      <td>11315</td>\n      <td>0</td>\n      <td>24</td>\n      <td>2</td>\n      <td>0.327710</td>\n      <td>41000.0</td>\n      <td>True</td>\n      <td>0</td>\n      <td>[]</td>\n      <td>[]</td>\n    </tr>\n    <tr>\n      <th>48</th>\n      <td>68564341539</td>\n      <td>76708022</td>\n      <td>18482569556</td>\n      <td>1633230783</td>\n      <td>839</td>\n      <td>0</td>\n      <td>5041</td>\n      <td>0</td>\n      <td>0.695190</td>\n      <td>15000.0</td>\n      <td>True</td>\n      <td>1</td>\n      <td>[]</td>\n      <td>[]</td>\n    </tr>\n    <tr>\n      <th>49</th>\n      <td>68564342822</td>\n      <td>50632497</td>\n      <td>17425525</td>\n      <td>1072148405</td>\n      <td>3944</td>\n      <td>0</td>\n      <td>39</td>\n      <td>0</td>\n      <td>0.384739</td>\n      <td>27000.0</td>\n      <td>True</td>\n      <td>1</td>\n      <td>[]</td>\n      <td>[]</td>\n    </tr>\n    <tr>\n      <th>50</th>\n      <td>68564342888</td>\n      <td>89677237</td>\n      <td>1353682177</td>\n      <td>1905467642</td>\n      <td>4308</td>\n      <td>0</td>\n      <td>36</td>\n      <td>1</td>\n      <td>0.252286</td>\n      <td>50000.0</td>\n      <td>True</td>\n      <td>0</td>\n      <td>[]</td>\n      <td>[]</td>\n    </tr>\n    <tr>\n      <th>51</th>\n      <td>68564346724</td>\n      <td>99211181</td>\n      <td>409355781</td>\n      <td>2104957435</td>\n      <td>6669</td>\n      <td>0</td>\n      <td>71</td>\n      <td>0</td>\n      <td>0.713251</td>\n      <td>29000.0</td>\n      <td>True</td>\n      <td>1</td>\n      <td>[]</td>\n      <td>[]</td>\n    </tr>\n  </tbody>\n</table>\n</div>"
     },
     "metadata": {},
     "execution_count": 15
    }
   ],
   "source": [
    "test_df"
   ]
  },
  {
   "cell_type": "code",
   "execution_count": 14,
   "metadata": {},
   "outputs": [
    {
     "output_type": "stream",
     "name": "stdout",
     "text": [
      "tensor([ 5551,  5074,   296,  4554,  5192,  6445,  3565,   853,   675,  1315,\n        10687,   412])\ntensor([    0, 19074, 18597, 13819,  4554,  5192, 19968, 17088, 14376, 14198,\n         1315, 24210])\n[0.3604449  0.60844517 0.7734691  0.771187   0.4806249  0.6075902\n 0.5351341  0.28282395 0.6779909  0.33384073 0.8998479  0.7689281 ] \n\n[ 5551  5074   296  4554  5192  6445  3565   853   675  1315 10687]\n[1 1 1 0 0 1 1 1 1 0 1]\n"
     ]
    }
   ],
   "source": [
    "print(item[1][u_idx_loc, -12:]) # user 1089397940 2nd batch in example_test (question sequence)\n",
    "print(item[0][u_idx_loc, -12:]) # user 1089397940 2nd batch in example_test: skill sequence = prev_content_id * (correct or not) + 13523\n",
    "print(output[u_idx_loc, -12:].cpu().numpy(),'\\n') # user 1089397940 probability prediction\n",
    "\n",
    "print(group_updated[1089397940][0][:12]) # in the 2nd iteration the length is only 11\n",
    "print(group_updated[1089397940][1][:12])"
   ]
  },
  {
   "source": [
    "Iteration number 3"
   ],
   "cell_type": "markdown",
   "metadata": {}
  },
  {
   "cell_type": "code",
   "execution_count": 39,
   "metadata": {},
   "outputs": [
    {
     "output_type": "stream",
     "name": "stdout",
     "text": [
      "local index of user 1089397940: 2 \n\n"
     ]
    },
    {
     "output_type": "execute_result",
     "data": {
      "text/plain": [
       "virtual_timestamp                 68564356750\n",
       "row_id                               51398659\n",
       "timestamp                              452764\n",
       "user_id                            1089397940\n",
       "content_id                                651\n",
       "content_type_id                             0\n",
       "task_container_id                          12\n",
       "user_answer                                 3\n",
       "answered_correctly                   0.374165\n",
       "prior_question_elapsed_time             16000\n",
       "prior_question_had_explanation           True\n",
       "answer_correctly_true                       1\n",
       "prior_group_responses                      []\n",
       "prior_group_answers_correct                []\n",
       "Name: 54, dtype: object"
      ]
     },
     "metadata": {},
     "execution_count": 39
    }
   ],
   "source": [
    "test_df, prev_test_df, output, item, group_updated, _, _ = iter_env_run(all_test_df, n_iter=3)\n",
    "u_idx_loc = test_df.index.get_loc(test_df[test_df.user_id==1089397940].index[0])\n",
    "print(f\"local index of user 1089397940: {u_idx_loc}\", '\\n')\n",
    "test_df.iloc[u_idx_loc]"
   ]
  },
  {
   "cell_type": "code",
   "execution_count": 23,
   "metadata": {},
   "outputs": [
    {
     "output_type": "execute_result",
     "data": {
      "text/plain": [
       "    virtual_timestamp    row_id    timestamp     user_id  content_id  \\\n",
       "52        68564353140  53804593    908504634  1140583044        1238   \n",
       "53        68564354871   6789101    208892916   147771339        9285   \n",
       "54        68564356750  51398659       452764  1089397940         651   \n",
       "55        68564357545   6572820     26148069   143316232        9874   \n",
       "56        68564357944  79224569  61247447101  1686819041        6325   \n",
       "57        68564362534  52786660     95197287  1118911890         660   \n",
       "58        68564364043   6559032  31998443066   142958766        1265   \n",
       "59        68564367850  73310718        58181  1559547677        4216   \n",
       "60        68564369095  79509641    804851645  1693026219        4476   \n",
       "61        68564369521  30215621  11412935891   648079731         401   \n",
       "\n",
       "    content_type_id  task_container_id  user_answer  answered_correctly  \\\n",
       "52                0                 67            1                   1   \n",
       "53                0                146            0                   0   \n",
       "54                0                 12            3                   1   \n",
       "55                0                 70            3                   0   \n",
       "56                0               3305            2                   0   \n",
       "57                0                 76            3                   1   \n",
       "58                0                423            3                   0   \n",
       "59                0                  1            2                   0   \n",
       "60                0                210            3                   0   \n",
       "61                0                875            3                   1   \n",
       "\n",
       "    prior_question_elapsed_time prior_question_had_explanation  \\\n",
       "52                      15000.0                           True   \n",
       "53                      17000.0                           True   \n",
       "54                      16000.0                           True   \n",
       "55                      13000.0                           True   \n",
       "56                      47000.0                           True   \n",
       "57                      16000.0                           True   \n",
       "58                       9000.0                           True   \n",
       "59                       9000.0                          False   \n",
       "60                      18000.0                           True   \n",
       "61                      18000.0                           True   \n",
       "\n",
       "    answer_correctly_true      prior_group_responses  \\\n",
       "52                      1  [3,3,0,3,2,3,1,2,0,0,1,0]   \n",
       "53                      0                         []   \n",
       "54                      1                         []   \n",
       "55                      0                         []   \n",
       "56                      0                         []   \n",
       "57                      1                         []   \n",
       "58                      0                         []   \n",
       "59                      0                         []   \n",
       "60                      0                         []   \n",
       "61                      1                         []   \n",
       "\n",
       "   prior_group_answers_correct  \n",
       "52   [1,1,0,1,1,1,1,0,1,1,0,1]  \n",
       "53                          []  \n",
       "54                          []  \n",
       "55                          []  \n",
       "56                          []  \n",
       "57                          []  \n",
       "58                          []  \n",
       "59                          []  \n",
       "60                          []  \n",
       "61                          []  "
      ],
      "text/html": "<div>\n<style scoped>\n    .dataframe tbody tr th:only-of-type {\n        vertical-align: middle;\n    }\n\n    .dataframe tbody tr th {\n        vertical-align: top;\n    }\n\n    .dataframe thead th {\n        text-align: right;\n    }\n</style>\n<table border=\"1\" class=\"dataframe\">\n  <thead>\n    <tr style=\"text-align: right;\">\n      <th></th>\n      <th>virtual_timestamp</th>\n      <th>row_id</th>\n      <th>timestamp</th>\n      <th>user_id</th>\n      <th>content_id</th>\n      <th>content_type_id</th>\n      <th>task_container_id</th>\n      <th>user_answer</th>\n      <th>answered_correctly</th>\n      <th>prior_question_elapsed_time</th>\n      <th>prior_question_had_explanation</th>\n      <th>answer_correctly_true</th>\n      <th>prior_group_responses</th>\n      <th>prior_group_answers_correct</th>\n    </tr>\n  </thead>\n  <tbody>\n    <tr>\n      <th>52</th>\n      <td>68564353140</td>\n      <td>53804593</td>\n      <td>908504634</td>\n      <td>1140583044</td>\n      <td>1238</td>\n      <td>0</td>\n      <td>67</td>\n      <td>1</td>\n      <td>1</td>\n      <td>15000.0</td>\n      <td>True</td>\n      <td>1</td>\n      <td>[3,3,0,3,2,3,1,2,0,0,1,0]</td>\n      <td>[1,1,0,1,1,1,1,0,1,1,0,1]</td>\n    </tr>\n    <tr>\n      <th>53</th>\n      <td>68564354871</td>\n      <td>6789101</td>\n      <td>208892916</td>\n      <td>147771339</td>\n      <td>9285</td>\n      <td>0</td>\n      <td>146</td>\n      <td>0</td>\n      <td>0</td>\n      <td>17000.0</td>\n      <td>True</td>\n      <td>0</td>\n      <td>[]</td>\n      <td>[]</td>\n    </tr>\n    <tr>\n      <th>54</th>\n      <td>68564356750</td>\n      <td>51398659</td>\n      <td>452764</td>\n      <td>1089397940</td>\n      <td>651</td>\n      <td>0</td>\n      <td>12</td>\n      <td>3</td>\n      <td>1</td>\n      <td>16000.0</td>\n      <td>True</td>\n      <td>1</td>\n      <td>[]</td>\n      <td>[]</td>\n    </tr>\n    <tr>\n      <th>55</th>\n      <td>68564357545</td>\n      <td>6572820</td>\n      <td>26148069</td>\n      <td>143316232</td>\n      <td>9874</td>\n      <td>0</td>\n      <td>70</td>\n      <td>3</td>\n      <td>0</td>\n      <td>13000.0</td>\n      <td>True</td>\n      <td>0</td>\n      <td>[]</td>\n      <td>[]</td>\n    </tr>\n    <tr>\n      <th>56</th>\n      <td>68564357944</td>\n      <td>79224569</td>\n      <td>61247447101</td>\n      <td>1686819041</td>\n      <td>6325</td>\n      <td>0</td>\n      <td>3305</td>\n      <td>2</td>\n      <td>0</td>\n      <td>47000.0</td>\n      <td>True</td>\n      <td>0</td>\n      <td>[]</td>\n      <td>[]</td>\n    </tr>\n    <tr>\n      <th>57</th>\n      <td>68564362534</td>\n      <td>52786660</td>\n      <td>95197287</td>\n      <td>1118911890</td>\n      <td>660</td>\n      <td>0</td>\n      <td>76</td>\n      <td>3</td>\n      <td>1</td>\n      <td>16000.0</td>\n      <td>True</td>\n      <td>1</td>\n      <td>[]</td>\n      <td>[]</td>\n    </tr>\n    <tr>\n      <th>58</th>\n      <td>68564364043</td>\n      <td>6559032</td>\n      <td>31998443066</td>\n      <td>142958766</td>\n      <td>1265</td>\n      <td>0</td>\n      <td>423</td>\n      <td>3</td>\n      <td>0</td>\n      <td>9000.0</td>\n      <td>True</td>\n      <td>0</td>\n      <td>[]</td>\n      <td>[]</td>\n    </tr>\n    <tr>\n      <th>59</th>\n      <td>68564367850</td>\n      <td>73310718</td>\n      <td>58181</td>\n      <td>1559547677</td>\n      <td>4216</td>\n      <td>0</td>\n      <td>1</td>\n      <td>2</td>\n      <td>0</td>\n      <td>9000.0</td>\n      <td>False</td>\n      <td>0</td>\n      <td>[]</td>\n      <td>[]</td>\n    </tr>\n    <tr>\n      <th>60</th>\n      <td>68564369095</td>\n      <td>79509641</td>\n      <td>804851645</td>\n      <td>1693026219</td>\n      <td>4476</td>\n      <td>0</td>\n      <td>210</td>\n      <td>3</td>\n      <td>0</td>\n      <td>18000.0</td>\n      <td>True</td>\n      <td>0</td>\n      <td>[]</td>\n      <td>[]</td>\n    </tr>\n    <tr>\n      <th>61</th>\n      <td>68564369521</td>\n      <td>30215621</td>\n      <td>11412935891</td>\n      <td>648079731</td>\n      <td>401</td>\n      <td>0</td>\n      <td>875</td>\n      <td>3</td>\n      <td>1</td>\n      <td>18000.0</td>\n      <td>True</td>\n      <td>1</td>\n      <td>[]</td>\n      <td>[]</td>\n    </tr>\n  </tbody>\n</table>\n</div>"
     },
     "metadata": {},
     "execution_count": 23
    }
   ],
   "source": [
    "prev_test_df"
   ]
  },
  {
   "cell_type": "code",
   "execution_count": 40,
   "metadata": {},
   "outputs": [
    {
     "output_type": "execute_result",
     "data": {
      "text/plain": [
       "'[1,1,0,1,1,1,1,0,1,1,0,1]'"
      ]
     },
     "metadata": {},
     "execution_count": 40
    }
   ],
   "source": [
    "prev_test_df['prior_group_answers_correct'].iloc[0]"
   ]
  },
  {
   "cell_type": "code",
   "execution_count": 41,
   "metadata": {},
   "outputs": [
    {
     "output_type": "stream",
     "name": "stdout",
     "text": [
      "tensor([ 5074,   296,  4554,  5192,  6445,  3565,   853,   675,  1315, 10687,\n          412,   651])\ntensor([19074, 18597, 13819,  4554,  5192, 19968, 17088, 14376, 14198,  1315,\n        24210, 13935])\n[0.6779202  0.75148046 0.7712332  0.4629782  0.6360581  0.52873796\n 0.2487526  0.69588625 0.40744492 0.9152832  0.6593629  0.3741647 ] \n\n[ 5551  5074   296  4554  5192  6445  3565   853   675  1315 10687   412]\n[1 1 1 0 0 1 1 1 1 0 1 1]\n"
     ]
    }
   ],
   "source": [
    "print(item[1][u_idx_loc, -12:]) # user 1089397940 first batch in example_test (question sequence)\n",
    "print(item[0][u_idx_loc, -12:]) # user 1089397940 first batch in example_test: skill sequence = prev_content_id * (correct or not) + 13523\n",
    "print(output[u_idx_loc, -12:].cpu().numpy(),'\\n') # user 1089397940 probability prediction\n",
    "\n",
    "print(group_updated[1089397940][0][:12]) # in the first iteration the length is only 11\n",
    "print(group_updated[1089397940][1][:12])"
   ]
  },
  {
   "source": [
    "Iteration number 4"
   ],
   "cell_type": "markdown",
   "metadata": {}
  },
  {
   "cell_type": "code",
   "execution_count": 18,
   "metadata": {},
   "outputs": [
    {
     "output_type": "stream",
     "name": "stdout",
     "text": [
      "local index of user 1089397940: 8 \n\n"
     ]
    },
    {
     "output_type": "execute_result",
     "data": {
      "text/plain": [
       "virtual_timestamp                 68564391579\n",
       "row_id                               51398660\n",
       "timestamp                              487593\n",
       "user_id                            1089397940\n",
       "content_id                                665\n",
       "content_type_id                             0\n",
       "task_container_id                          13\n",
       "user_answer                                 0\n",
       "answered_correctly                   0.276526\n",
       "prior_question_elapsed_time             17000\n",
       "prior_question_had_explanation           True\n",
       "answer_correctly_true                       0\n",
       "prior_group_responses                      []\n",
       "prior_group_answers_correct                []\n",
       "Name: 71, dtype: object"
      ]
     },
     "metadata": {},
     "execution_count": 18
    }
   ],
   "source": [
    "test_df, prev_test_df, output, item, group_updated, _, _ = iter_env_run(all_test_df, n_iter=4)\n",
    "u_idx_loc = test_df.index.get_loc(test_df[test_df.user_id==1089397940].index[0])\n",
    "print(f\"local index of user 1089397940: {u_idx_loc}\", '\\n')\n",
    "test_df.iloc[u_idx_loc]"
   ]
  },
  {
   "cell_type": "code",
   "execution_count": 19,
   "metadata": {},
   "outputs": [
    {
     "output_type": "execute_result",
     "data": {
      "text/plain": [
       "    virtual_timestamp     row_id    timestamp     user_id  content_id  \\\n",
       "62        68564376280   53804594    908527774  1140583044        1296   \n",
       "63        68564376507    6572821     26167031   143316232       13407   \n",
       "64        68564376553  100237380  34834345988  2127578322         551   \n",
       "66        68564378665   79862225  32408560618  1700268996        2974   \n",
       "67        68564378665   79862226  32408560618  1700268996        2975   \n",
       "68        68564378665   79862227  32408560618  1700268996        2973   \n",
       "69        68564381106   89677238   1353720395  1905467642        9134   \n",
       "70        68564389829   95275629  29264865041  2021767860        1226   \n",
       "71        68564391579   51398660       487593  1089397940         665   \n",
       "72        68564392581   50632498     17475284  1072148405        5213   \n",
       "73        68564393935   99211182    409402992  2104957435        9129   \n",
       "74        68564394323   75613646   3622258317  1609501147        3377   \n",
       "75        68564394323   75613647   3622258317  1609501147        3376   \n",
       "76        68564394323   75613648   3622258317  1609501147        3375   \n",
       "77        68564394527   75539257   9304439787  1608180251        2872   \n",
       "78        68564394527   75539258   9304439787  1608180251        2873   \n",
       "79        68564394527   75539259   9304439787  1608180251        2871   \n",
       "80        68564394817   34258627   7031434592   733305348        1105   \n",
       "81        68564396166   52786661     95230919  1118911890         571   \n",
       "\n",
       "    content_type_id  task_container_id  user_answer  answered_correctly  \\\n",
       "62                0                 68            0            0.650476   \n",
       "63                0                 71            3            0.301902   \n",
       "64                0                806            0            0.812860   \n",
       "66                0               1494            1            0.969968   \n",
       "67                0               1494            2            0.635115   \n",
       "68                0               1494            3            0.920297   \n",
       "69                0                 37            2            0.263514   \n",
       "70                0                992            3            0.709984   \n",
       "71                0                 13            0            0.276526   \n",
       "72                0                 40            3            0.446198   \n",
       "73                0                 72            1            0.453946   \n",
       "74                0                340            1            0.385076   \n",
       "75                0                340            1            0.960944   \n",
       "76                0                340            0            0.948443   \n",
       "77                0                758            1            0.849544   \n",
       "78                0                758            1            0.883928   \n",
       "79                0                758            3            0.285157   \n",
       "80                0               1761            0            0.729678   \n",
       "81                0                 77            0            0.799403   \n",
       "\n",
       "    prior_question_elapsed_time prior_question_had_explanation  \\\n",
       "62                      19000.0                           True   \n",
       "63                      19000.0                           True   \n",
       "64                      17000.0                           True   \n",
       "66                      20000.0                           True   \n",
       "67                      20000.0                           True   \n",
       "68                      20000.0                           True   \n",
       "69                      31000.0                           True   \n",
       "70                      19000.0                           True   \n",
       "71                      17000.0                           True   \n",
       "72                      15000.0                           True   \n",
       "73                      27000.0                           True   \n",
       "74                      10000.0                           True   \n",
       "75                      10000.0                           True   \n",
       "76                      10000.0                           True   \n",
       "77                      18333.0                           True   \n",
       "78                      18333.0                           True   \n",
       "79                      18333.0                           True   \n",
       "80                      18000.0                           True   \n",
       "81                      16000.0                           True   \n",
       "\n",
       "    answer_correctly_true  prior_group_responses prior_group_answers_correct  \n",
       "62                      1  [1,0,3,3,2,3,3,2,3,3]       [1,0,1,0,0,1,0,0,0,1]  \n",
       "63                      1                     []                          []  \n",
       "64                      1                     []                          []  \n",
       "66                      1                     []                          []  \n",
       "67                      1                     []                          []  \n",
       "68                      1                     []                          []  \n",
       "69                      1                     []                          []  \n",
       "70                      1                     []                          []  \n",
       "71                      0                     []                          []  \n",
       "72                      1                     []                          []  \n",
       "73                      1                     []                          []  \n",
       "74                      0                     []                          []  \n",
       "75                      1                     []                          []  \n",
       "76                      1                     []                          []  \n",
       "77                      1                     []                          []  \n",
       "78                      1                     []                          []  \n",
       "79                      0                     []                          []  \n",
       "80                      1                     []                          []  \n",
       "81                      1                     []                          []  "
      ],
      "text/html": "<div>\n<style scoped>\n    .dataframe tbody tr th:only-of-type {\n        vertical-align: middle;\n    }\n\n    .dataframe tbody tr th {\n        vertical-align: top;\n    }\n\n    .dataframe thead th {\n        text-align: right;\n    }\n</style>\n<table border=\"1\" class=\"dataframe\">\n  <thead>\n    <tr style=\"text-align: right;\">\n      <th></th>\n      <th>virtual_timestamp</th>\n      <th>row_id</th>\n      <th>timestamp</th>\n      <th>user_id</th>\n      <th>content_id</th>\n      <th>content_type_id</th>\n      <th>task_container_id</th>\n      <th>user_answer</th>\n      <th>answered_correctly</th>\n      <th>prior_question_elapsed_time</th>\n      <th>prior_question_had_explanation</th>\n      <th>answer_correctly_true</th>\n      <th>prior_group_responses</th>\n      <th>prior_group_answers_correct</th>\n    </tr>\n  </thead>\n  <tbody>\n    <tr>\n      <th>62</th>\n      <td>68564376280</td>\n      <td>53804594</td>\n      <td>908527774</td>\n      <td>1140583044</td>\n      <td>1296</td>\n      <td>0</td>\n      <td>68</td>\n      <td>0</td>\n      <td>0.650476</td>\n      <td>19000.0</td>\n      <td>True</td>\n      <td>1</td>\n      <td>[1,0,3,3,2,3,3,2,3,3]</td>\n      <td>[1,0,1,0,0,1,0,0,0,1]</td>\n    </tr>\n    <tr>\n      <th>63</th>\n      <td>68564376507</td>\n      <td>6572821</td>\n      <td>26167031</td>\n      <td>143316232</td>\n      <td>13407</td>\n      <td>0</td>\n      <td>71</td>\n      <td>3</td>\n      <td>0.301902</td>\n      <td>19000.0</td>\n      <td>True</td>\n      <td>1</td>\n      <td>[]</td>\n      <td>[]</td>\n    </tr>\n    <tr>\n      <th>64</th>\n      <td>68564376553</td>\n      <td>100237380</td>\n      <td>34834345988</td>\n      <td>2127578322</td>\n      <td>551</td>\n      <td>0</td>\n      <td>806</td>\n      <td>0</td>\n      <td>0.812860</td>\n      <td>17000.0</td>\n      <td>True</td>\n      <td>1</td>\n      <td>[]</td>\n      <td>[]</td>\n    </tr>\n    <tr>\n      <th>66</th>\n      <td>68564378665</td>\n      <td>79862225</td>\n      <td>32408560618</td>\n      <td>1700268996</td>\n      <td>2974</td>\n      <td>0</td>\n      <td>1494</td>\n      <td>1</td>\n      <td>0.969968</td>\n      <td>20000.0</td>\n      <td>True</td>\n      <td>1</td>\n      <td>[]</td>\n      <td>[]</td>\n    </tr>\n    <tr>\n      <th>67</th>\n      <td>68564378665</td>\n      <td>79862226</td>\n      <td>32408560618</td>\n      <td>1700268996</td>\n      <td>2975</td>\n      <td>0</td>\n      <td>1494</td>\n      <td>2</td>\n      <td>0.635115</td>\n      <td>20000.0</td>\n      <td>True</td>\n      <td>1</td>\n      <td>[]</td>\n      <td>[]</td>\n    </tr>\n    <tr>\n      <th>68</th>\n      <td>68564378665</td>\n      <td>79862227</td>\n      <td>32408560618</td>\n      <td>1700268996</td>\n      <td>2973</td>\n      <td>0</td>\n      <td>1494</td>\n      <td>3</td>\n      <td>0.920297</td>\n      <td>20000.0</td>\n      <td>True</td>\n      <td>1</td>\n      <td>[]</td>\n      <td>[]</td>\n    </tr>\n    <tr>\n      <th>69</th>\n      <td>68564381106</td>\n      <td>89677238</td>\n      <td>1353720395</td>\n      <td>1905467642</td>\n      <td>9134</td>\n      <td>0</td>\n      <td>37</td>\n      <td>2</td>\n      <td>0.263514</td>\n      <td>31000.0</td>\n      <td>True</td>\n      <td>1</td>\n      <td>[]</td>\n      <td>[]</td>\n    </tr>\n    <tr>\n      <th>70</th>\n      <td>68564389829</td>\n      <td>95275629</td>\n      <td>29264865041</td>\n      <td>2021767860</td>\n      <td>1226</td>\n      <td>0</td>\n      <td>992</td>\n      <td>3</td>\n      <td>0.709984</td>\n      <td>19000.0</td>\n      <td>True</td>\n      <td>1</td>\n      <td>[]</td>\n      <td>[]</td>\n    </tr>\n    <tr>\n      <th>71</th>\n      <td>68564391579</td>\n      <td>51398660</td>\n      <td>487593</td>\n      <td>1089397940</td>\n      <td>665</td>\n      <td>0</td>\n      <td>13</td>\n      <td>0</td>\n      <td>0.276526</td>\n      <td>17000.0</td>\n      <td>True</td>\n      <td>0</td>\n      <td>[]</td>\n      <td>[]</td>\n    </tr>\n    <tr>\n      <th>72</th>\n      <td>68564392581</td>\n      <td>50632498</td>\n      <td>17475284</td>\n      <td>1072148405</td>\n      <td>5213</td>\n      <td>0</td>\n      <td>40</td>\n      <td>3</td>\n      <td>0.446198</td>\n      <td>15000.0</td>\n      <td>True</td>\n      <td>1</td>\n      <td>[]</td>\n      <td>[]</td>\n    </tr>\n    <tr>\n      <th>73</th>\n      <td>68564393935</td>\n      <td>99211182</td>\n      <td>409402992</td>\n      <td>2104957435</td>\n      <td>9129</td>\n      <td>0</td>\n      <td>72</td>\n      <td>1</td>\n      <td>0.453946</td>\n      <td>27000.0</td>\n      <td>True</td>\n      <td>1</td>\n      <td>[]</td>\n      <td>[]</td>\n    </tr>\n    <tr>\n      <th>74</th>\n      <td>68564394323</td>\n      <td>75613646</td>\n      <td>3622258317</td>\n      <td>1609501147</td>\n      <td>3377</td>\n      <td>0</td>\n      <td>340</td>\n      <td>1</td>\n      <td>0.385076</td>\n      <td>10000.0</td>\n      <td>True</td>\n      <td>0</td>\n      <td>[]</td>\n      <td>[]</td>\n    </tr>\n    <tr>\n      <th>75</th>\n      <td>68564394323</td>\n      <td>75613647</td>\n      <td>3622258317</td>\n      <td>1609501147</td>\n      <td>3376</td>\n      <td>0</td>\n      <td>340</td>\n      <td>1</td>\n      <td>0.960944</td>\n      <td>10000.0</td>\n      <td>True</td>\n      <td>1</td>\n      <td>[]</td>\n      <td>[]</td>\n    </tr>\n    <tr>\n      <th>76</th>\n      <td>68564394323</td>\n      <td>75613648</td>\n      <td>3622258317</td>\n      <td>1609501147</td>\n      <td>3375</td>\n      <td>0</td>\n      <td>340</td>\n      <td>0</td>\n      <td>0.948443</td>\n      <td>10000.0</td>\n      <td>True</td>\n      <td>1</td>\n      <td>[]</td>\n      <td>[]</td>\n    </tr>\n    <tr>\n      <th>77</th>\n      <td>68564394527</td>\n      <td>75539257</td>\n      <td>9304439787</td>\n      <td>1608180251</td>\n      <td>2872</td>\n      <td>0</td>\n      <td>758</td>\n      <td>1</td>\n      <td>0.849544</td>\n      <td>18333.0</td>\n      <td>True</td>\n      <td>1</td>\n      <td>[]</td>\n      <td>[]</td>\n    </tr>\n    <tr>\n      <th>78</th>\n      <td>68564394527</td>\n      <td>75539258</td>\n      <td>9304439787</td>\n      <td>1608180251</td>\n      <td>2873</td>\n      <td>0</td>\n      <td>758</td>\n      <td>1</td>\n      <td>0.883928</td>\n      <td>18333.0</td>\n      <td>True</td>\n      <td>1</td>\n      <td>[]</td>\n      <td>[]</td>\n    </tr>\n    <tr>\n      <th>79</th>\n      <td>68564394527</td>\n      <td>75539259</td>\n      <td>9304439787</td>\n      <td>1608180251</td>\n      <td>2871</td>\n      <td>0</td>\n      <td>758</td>\n      <td>3</td>\n      <td>0.285157</td>\n      <td>18333.0</td>\n      <td>True</td>\n      <td>0</td>\n      <td>[]</td>\n      <td>[]</td>\n    </tr>\n    <tr>\n      <th>80</th>\n      <td>68564394817</td>\n      <td>34258627</td>\n      <td>7031434592</td>\n      <td>733305348</td>\n      <td>1105</td>\n      <td>0</td>\n      <td>1761</td>\n      <td>0</td>\n      <td>0.729678</td>\n      <td>18000.0</td>\n      <td>True</td>\n      <td>1</td>\n      <td>[]</td>\n      <td>[]</td>\n    </tr>\n    <tr>\n      <th>81</th>\n      <td>68564396166</td>\n      <td>52786661</td>\n      <td>95230919</td>\n      <td>1118911890</td>\n      <td>571</td>\n      <td>0</td>\n      <td>77</td>\n      <td>0</td>\n      <td>0.799403</td>\n      <td>16000.0</td>\n      <td>True</td>\n      <td>1</td>\n      <td>[]</td>\n      <td>[]</td>\n    </tr>\n  </tbody>\n</table>\n</div>"
     },
     "metadata": {},
     "execution_count": 19
    }
   ],
   "source": [
    "test_df"
   ]
  },
  {
   "cell_type": "code",
   "execution_count": 38,
   "metadata": {},
   "outputs": [
    {
     "output_type": "stream",
     "name": "stdout",
     "text": [
      "tensor([  296,  4554,  5192,  6445,  3565,   853,   675,  1315, 10687,   412,\n          651,   665])\ntensor([18597, 13819,  4554,  5192, 19968, 17088, 14376, 14198,  1315, 24210,\n        13935, 14174])\n[0.7157869  0.74189687 0.4968931  0.6795694  0.53402317 0.31044167\n 0.6519086  0.31791052 0.93494207 0.78832686 0.37740535 0.2967214 ] \n\n[ 5551  5074   296  4554  5192  6445  3565   853   675  1315 10687   412]\n[1 1 1 0 0 1 1 1 1 0 1 1]\n"
     ]
    }
   ],
   "source": [
    "print(item[1][u_idx_loc, -12:]) # user 1089397940 first batch in example_test (question sequence)\n",
    "print(item[0][u_idx_loc, -12:]) # user 1089397940 first batch in example_test: skill sequence = prev_content_id * (correct or not) + 13523\n",
    "print(output[u_idx_loc, -12:].cpu().numpy(),'\\n') # user 1089397940 probability prediction\n",
    "\n",
    "print(group_updated[1089397940][0][:12]) # in the first iteration the length is only 11\n",
    "print(group_updated[1089397940][1][:12])"
   ]
  },
  {
   "cell_type": "code",
   "execution_count": 42,
   "metadata": {},
   "outputs": [
    {
     "output_type": "execute_result",
     "data": {
      "text/plain": [
       "    virtual_timestamp    row_id    timestamp     user_id  content_id  \\\n",
       "52        68564353140  53804593    908504634  1140583044        1238   \n",
       "53        68564354871   6789101    208892916   147771339        9285   \n",
       "54        68564356750  51398659       452764  1089397940         651   \n",
       "55        68564357545   6572820     26148069   143316232        9874   \n",
       "56        68564357944  79224569  61247447101  1686819041        6325   \n",
       "57        68564362534  52786660     95197287  1118911890         660   \n",
       "58        68564364043   6559032  31998443066   142958766        1265   \n",
       "59        68564367850  73310718        58181  1559547677        4216   \n",
       "60        68564369095  79509641    804851645  1693026219        4476   \n",
       "61        68564369521  30215621  11412935891   648079731         401   \n",
       "\n",
       "    content_type_id  task_container_id  user_answer  answered_correctly  \\\n",
       "52                0                 67            1                   1   \n",
       "53                0                146            0                   0   \n",
       "54                0                 12            3                   1   \n",
       "55                0                 70            3                   0   \n",
       "56                0               3305            2                   0   \n",
       "57                0                 76            3                   1   \n",
       "58                0                423            3                   0   \n",
       "59                0                  1            2                   0   \n",
       "60                0                210            3                   0   \n",
       "61                0                875            3                   1   \n",
       "\n",
       "    prior_question_elapsed_time prior_question_had_explanation  \\\n",
       "52                      15000.0                           True   \n",
       "53                      17000.0                           True   \n",
       "54                      16000.0                           True   \n",
       "55                      13000.0                           True   \n",
       "56                      47000.0                           True   \n",
       "57                      16000.0                           True   \n",
       "58                       9000.0                           True   \n",
       "59                       9000.0                          False   \n",
       "60                      18000.0                           True   \n",
       "61                      18000.0                           True   \n",
       "\n",
       "    answer_correctly_true      prior_group_responses  \\\n",
       "52                      1  [3,3,0,3,2,3,1,2,0,0,1,0]   \n",
       "53                      0                         []   \n",
       "54                      1                         []   \n",
       "55                      0                         []   \n",
       "56                      0                         []   \n",
       "57                      1                         []   \n",
       "58                      0                         []   \n",
       "59                      0                         []   \n",
       "60                      0                         []   \n",
       "61                      1                         []   \n",
       "\n",
       "   prior_group_answers_correct  \n",
       "52   [1,1,0,1,1,1,1,0,1,1,0,1]  \n",
       "53                          []  \n",
       "54                          []  \n",
       "55                          []  \n",
       "56                          []  \n",
       "57                          []  \n",
       "58                          []  \n",
       "59                          []  \n",
       "60                          []  \n",
       "61                          []  "
      ],
      "text/html": "<div>\n<style scoped>\n    .dataframe tbody tr th:only-of-type {\n        vertical-align: middle;\n    }\n\n    .dataframe tbody tr th {\n        vertical-align: top;\n    }\n\n    .dataframe thead th {\n        text-align: right;\n    }\n</style>\n<table border=\"1\" class=\"dataframe\">\n  <thead>\n    <tr style=\"text-align: right;\">\n      <th></th>\n      <th>virtual_timestamp</th>\n      <th>row_id</th>\n      <th>timestamp</th>\n      <th>user_id</th>\n      <th>content_id</th>\n      <th>content_type_id</th>\n      <th>task_container_id</th>\n      <th>user_answer</th>\n      <th>answered_correctly</th>\n      <th>prior_question_elapsed_time</th>\n      <th>prior_question_had_explanation</th>\n      <th>answer_correctly_true</th>\n      <th>prior_group_responses</th>\n      <th>prior_group_answers_correct</th>\n    </tr>\n  </thead>\n  <tbody>\n    <tr>\n      <th>52</th>\n      <td>68564353140</td>\n      <td>53804593</td>\n      <td>908504634</td>\n      <td>1140583044</td>\n      <td>1238</td>\n      <td>0</td>\n      <td>67</td>\n      <td>1</td>\n      <td>1</td>\n      <td>15000.0</td>\n      <td>True</td>\n      <td>1</td>\n      <td>[3,3,0,3,2,3,1,2,0,0,1,0]</td>\n      <td>[1,1,0,1,1,1,1,0,1,1,0,1]</td>\n    </tr>\n    <tr>\n      <th>53</th>\n      <td>68564354871</td>\n      <td>6789101</td>\n      <td>208892916</td>\n      <td>147771339</td>\n      <td>9285</td>\n      <td>0</td>\n      <td>146</td>\n      <td>0</td>\n      <td>0</td>\n      <td>17000.0</td>\n      <td>True</td>\n      <td>0</td>\n      <td>[]</td>\n      <td>[]</td>\n    </tr>\n    <tr>\n      <th>54</th>\n      <td>68564356750</td>\n      <td>51398659</td>\n      <td>452764</td>\n      <td>1089397940</td>\n      <td>651</td>\n      <td>0</td>\n      <td>12</td>\n      <td>3</td>\n      <td>1</td>\n      <td>16000.0</td>\n      <td>True</td>\n      <td>1</td>\n      <td>[]</td>\n      <td>[]</td>\n    </tr>\n    <tr>\n      <th>55</th>\n      <td>68564357545</td>\n      <td>6572820</td>\n      <td>26148069</td>\n      <td>143316232</td>\n      <td>9874</td>\n      <td>0</td>\n      <td>70</td>\n      <td>3</td>\n      <td>0</td>\n      <td>13000.0</td>\n      <td>True</td>\n      <td>0</td>\n      <td>[]</td>\n      <td>[]</td>\n    </tr>\n    <tr>\n      <th>56</th>\n      <td>68564357944</td>\n      <td>79224569</td>\n      <td>61247447101</td>\n      <td>1686819041</td>\n      <td>6325</td>\n      <td>0</td>\n      <td>3305</td>\n      <td>2</td>\n      <td>0</td>\n      <td>47000.0</td>\n      <td>True</td>\n      <td>0</td>\n      <td>[]</td>\n      <td>[]</td>\n    </tr>\n    <tr>\n      <th>57</th>\n      <td>68564362534</td>\n      <td>52786660</td>\n      <td>95197287</td>\n      <td>1118911890</td>\n      <td>660</td>\n      <td>0</td>\n      <td>76</td>\n      <td>3</td>\n      <td>1</td>\n      <td>16000.0</td>\n      <td>True</td>\n      <td>1</td>\n      <td>[]</td>\n      <td>[]</td>\n    </tr>\n    <tr>\n      <th>58</th>\n      <td>68564364043</td>\n      <td>6559032</td>\n      <td>31998443066</td>\n      <td>142958766</td>\n      <td>1265</td>\n      <td>0</td>\n      <td>423</td>\n      <td>3</td>\n      <td>0</td>\n      <td>9000.0</td>\n      <td>True</td>\n      <td>0</td>\n      <td>[]</td>\n      <td>[]</td>\n    </tr>\n    <tr>\n      <th>59</th>\n      <td>68564367850</td>\n      <td>73310718</td>\n      <td>58181</td>\n      <td>1559547677</td>\n      <td>4216</td>\n      <td>0</td>\n      <td>1</td>\n      <td>2</td>\n      <td>0</td>\n      <td>9000.0</td>\n      <td>False</td>\n      <td>0</td>\n      <td>[]</td>\n      <td>[]</td>\n    </tr>\n    <tr>\n      <th>60</th>\n      <td>68564369095</td>\n      <td>79509641</td>\n      <td>804851645</td>\n      <td>1693026219</td>\n      <td>4476</td>\n      <td>0</td>\n      <td>210</td>\n      <td>3</td>\n      <td>0</td>\n      <td>18000.0</td>\n      <td>True</td>\n      <td>0</td>\n      <td>[]</td>\n      <td>[]</td>\n    </tr>\n    <tr>\n      <th>61</th>\n      <td>68564369521</td>\n      <td>30215621</td>\n      <td>11412935891</td>\n      <td>648079731</td>\n      <td>401</td>\n      <td>0</td>\n      <td>875</td>\n      <td>3</td>\n      <td>1</td>\n      <td>18000.0</td>\n      <td>True</td>\n      <td>1</td>\n      <td>[]</td>\n      <td>[]</td>\n    </tr>\n  </tbody>\n</table>\n</div>"
     },
     "metadata": {},
     "execution_count": 42
    }
   ],
   "source": [
    "prev_test_df"
   ]
  },
  {
   "cell_type": "code",
   "execution_count": null,
   "metadata": {},
   "outputs": [],
   "source": []
  }
 ]
}