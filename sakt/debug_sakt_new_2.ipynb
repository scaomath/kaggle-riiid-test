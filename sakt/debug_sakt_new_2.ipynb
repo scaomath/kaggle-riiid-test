{
 "metadata": {
  "language_info": {
   "codemirror_mode": {
    "name": "ipython",
    "version": 3
   },
   "file_extension": ".py",
   "mimetype": "text/x-python",
   "name": "python",
   "nbconvert_exporter": "python",
   "pygments_lexer": "ipython3",
   "version": "3.8.3-final"
  },
  "orig_nbformat": 2,
  "kernelspec": {
   "name": "python38364bitbaseconda97cd5720aa194725b86ca3d3cdd6281a",
   "display_name": "Python 3.8.3 64-bit ('base': conda)",
   "language": "python"
  }
 },
 "nbformat": 4,
 "nbformat_minor": 2,
 "cells": [
  {
   "source": [
    "# Debugging the baseline SAKT model\n",
    "- There is seemingly a bug in the `iter_env`.\n",
    "\n",
    "### TO-DO:\n",
    "features encoding:\n",
    "- how to address the problem with previous answers correctly not uniformly predicted\n",
    "- question tags "
   ],
   "cell_type": "markdown",
   "metadata": {}
  },
  {
   "cell_type": "code",
   "execution_count": 1,
   "metadata": {},
   "outputs": [
    {
     "output_type": "display_data",
     "data": {
      "text/plain": "<IPython.core.display.HTML object>",
      "text/html": "<style type='text/css'>\n.datatable table.frame { margin-bottom: 0; }\n.datatable table.frame thead { border-bottom: none; }\n.datatable table.frame tr.coltypes td {  color: #FFFFFF;  line-height: 6px;  padding: 0 0.5em;}\n.datatable .bool    { background: #DDDD99; }\n.datatable .object  { background: #565656; }\n.datatable .int     { background: #5D9E5D; }\n.datatable .float   { background: #4040CC; }\n.datatable .str     { background: #CC4040; }\n.datatable .row_index {  background: var(--jp-border-color3);  border-right: 1px solid var(--jp-border-color0);  color: var(--jp-ui-font-color3);  font-size: 9px;}\n.datatable .frame tr.coltypes .row_index {  background: var(--jp-border-color0);}\n.datatable th:nth-child(2) { padding-left: 12px; }\n.datatable .hellipsis {  color: var(--jp-cell-editor-border-color);}\n.datatable .vellipsis {  background: var(--jp-layout-color0);  color: var(--jp-cell-editor-border-color);}\n.datatable .na {  color: var(--jp-cell-editor-border-color);  font-size: 80%;}\n.datatable .footer { font-size: 9px; }\n.datatable .frame_dimensions {  background: var(--jp-border-color3);  border-top: 1px solid var(--jp-border-color0);  color: var(--jp-ui-font-color3);  display: inline-block;  opacity: 0.6;  padding: 1px 10px 1px 5px;}\n</style>\n"
     },
     "metadata": {}
    },
    {
     "output_type": "stream",
     "name": "stdout",
     "text": [
      "/home/scao/Documents \n\n\n======================================== CPU Info ========================================\nPhysical cores    : 10\nTotal cores       : 20\nMax Frequency    : 5200.00 Mhz\nMin Frequency    : 800.00 Mhz\nCurrent Frequency: 4890.20 Mhz\n======================================== Memory Info ========================================\nTotal     : 62.62 GiB\nAvailable : 56.81 GiB\nUsed      : 4.89 GiB\n======================================== Software Info ========================================\nPython     : 3.8.3 (default, Jul  2 2020, 16:21:59) \nNumpy      : 1.18.5\nPandas     : 1.0.5\nPyTorch    : 1.7.0\n======================================== GPU Info ========================================\nDevice     : cuda:0\nGeForce RTX 3090\nMem total      : 23.7 GB\nMem allocated  : 0.0 GB\nMem cached     : 0.0 GB\n======================================== system info print done ========================================\n"
     ]
    }
   ],
   "source": [
    "import os\n",
    "import gc\n",
    "import sys\n",
    "\n",
    "import pickle\n",
    "from time import time\n",
    "\n",
    "import datatable as dt\n",
    "import matplotlib.pyplot as plt\n",
    "import numpy as np\n",
    "import pandas as pd\n",
    "import seaborn as sns\n",
    "import torch\n",
    "import torch.nn as nn\n",
    "from torch import optim\n",
    "from sklearn.metrics import roc_auc_score\n",
    "from sklearn.model_selection import train_test_split\n",
    "from torch.autograd import Variable\n",
    "import torch.optim as optim\n",
    "from torch.optim import Optimizer\n",
    "from torch.optim.lr_scheduler import (CosineAnnealingWarmRestarts, CyclicLR, OneCycleLR,\n",
    "                                      ReduceLROnPlateau)\n",
    "from torch.utils.data import DataLoader, Dataset\n",
    "from tqdm import tqdm\n",
    "\n",
    "sns.set()\n",
    "DEFAULT_FIG_WIDTH = 20\n",
    "sns.set_context(\"paper\", font_scale=1.2) \n",
    "# WORKSPACE_FOLDER=/home/scao/Documents/kaggle-riiid-test\n",
    "# PYTHONPATH=${WORKSPACE_FOLDER}:${WORKSPACE_FOLDER}/sakt:${WORKSPACE_FOLDER}/transformer\n",
    "HOME = os.path.abspath(os.path.join('.', os.pardir))\n",
    "print(HOME, '\\n\\n')\n",
    "# HOME = \"/home/scao/Documents/kaggle-riiid-test/\"\n",
    "MODEL_DIR = os.path.join(HOME,  'model')\n",
    "DATA_DIR = os.path.join(HOME,  'data')\n",
    "sys.path.append(HOME) \n",
    "from utils import *\n",
    "get_system()\n",
    "from sakt import *\n",
    "from iter_env import *"
   ]
  },
  {
   "cell_type": "code",
   "execution_count": 2,
   "metadata": {},
   "outputs": [],
   "source": [
    "# set-up\n",
    "\n",
    "DEBUG = True\n",
    "TRAIN = False\n",
    "PREPROCESS = False\n",
    "\n",
    "TEST_SIZE = 0.05\n",
    "\n",
    "NUM_SKILLS = 13523 # number of problems\n",
    "MAX_SEQ = 180\n",
    "ACCEPTED_USER_CONTENT_SIZE = 4\n",
    "EMBED_SIZE = 128\n",
    "NUM_HEADS = 8\n",
    "BATCH_SIZE = 64\n",
    "VAL_BATCH_SIZE = 2048\n",
    "DEBUG_TEST_SIZE = 2500\n",
    "DROPOUT = 0.1\n",
    "SEED = 1127\n",
    "\n",
    "get_seed(SEED)\n",
    "\n",
    "'''\n",
    "Columns placeholder and preprocessing params\n",
    "'''\n",
    "CONTENT_TYPE_ID = \"content_type_id\"\n",
    "CONTENT_ID = \"content_id\"\n",
    "TARGET = \"answered_correctly\"\n",
    "USER_ID = \"user_id\"\n",
    "PRIOR_QUESTION_TIME = 'prior_question_elapsed_time'\n",
    "\n",
    "PRIOR_QUESTION_EXPLAIN = 'prior_question_had_explanation'\n",
    "TASK_CONTAINER_ID = \"task_container_id\"\n",
    "TIMESTAMP = \"timestamp\" \n",
    "ROW_ID = 'row_id'\n",
    "FILLNA_VAL = 14_000 # for prior question elapsed time, rounded average in train\n",
    "TIME_SCALING = 1000 # scaling down the prior question elapsed time\n",
    "\n",
    "TRAIN_COLS = [TIMESTAMP, USER_ID, CONTENT_ID, CONTENT_TYPE_ID, TARGET]\n",
    "\n",
    "TRAIN_DTYPES = {TIMESTAMP: 'int64', \n",
    "         USER_ID: 'int32', \n",
    "         CONTENT_ID: 'int16',\n",
    "         CONTENT_TYPE_ID: 'bool',\n",
    "         TARGET:'int8',\n",
    "         PRIOR_QUESTION_TIME: np.float32,\n",
    "         PRIOR_QUESTION_EXPLAIN: 'boolean'}\n",
    "\n",
    "\n",
    "if DEBUG:\n",
    "    NROWS_TEST = 25_000\n",
    "    NROWS_TRAIN = 5_000_000\n",
    "    NROWS_VAL = 500_000\n",
    "else:\n",
    "    NROWS_TEST = 250_000\n",
    "    NROWS_TRAIN = 50_000_000\n",
    "    NROWS_VAL = 2_000_000"
   ]
  },
  {
   "cell_type": "code",
   "execution_count": null,
   "metadata": {},
   "outputs": [],
   "source": []
  }
 ]
}