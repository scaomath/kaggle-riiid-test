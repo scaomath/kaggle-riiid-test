{
 "metadata": {
  "language_info": {
   "codemirror_mode": {
    "name": "ipython",
    "version": 3
   },
   "file_extension": ".py",
   "mimetype": "text/x-python",
   "name": "python",
   "nbconvert_exporter": "python",
   "pygments_lexer": "ipython3",
   "version": "3.8.3-final"
  },
  "orig_nbformat": 2,
  "kernelspec": {
   "name": "python38364bitbaseconda97cd5720aa194725b86ca3d3cdd6281a",
   "display_name": "Python 3.8.3 64-bit ('base': conda)",
   "language": "python"
  }
 },
 "nbformat": 4,
 "nbformat_minor": 2,
 "cells": [
  {
   "source": [
    "# Debugging the baseline SAKT model\n",
    "- There is seemingly a bug in the `iter_env`.\n",
    "\n",
    "### TO-DO:\n",
    "features encoding:\n",
    "- how to address the problem with previous answers correctly not uniformly predicted\n",
    "- question tags "
   ],
   "cell_type": "markdown",
   "metadata": {}
  },
  {
   "cell_type": "code",
   "execution_count": 1,
   "metadata": {},
   "outputs": [
    {
     "output_type": "display_data",
     "data": {
      "text/plain": "<IPython.core.display.HTML object>",
      "text/html": "<style type='text/css'>\n.datatable table.frame { margin-bottom: 0; }\n.datatable table.frame thead { border-bottom: none; }\n.datatable table.frame tr.coltypes td {  color: #FFFFFF;  line-height: 6px;  padding: 0 0.5em;}\n.datatable .bool    { background: #DDDD99; }\n.datatable .object  { background: #565656; }\n.datatable .int     { background: #5D9E5D; }\n.datatable .float   { background: #4040CC; }\n.datatable .str     { background: #CC4040; }\n.datatable .row_index {  background: var(--jp-border-color3);  border-right: 1px solid var(--jp-border-color0);  color: var(--jp-ui-font-color3);  font-size: 9px;}\n.datatable .frame tr.coltypes .row_index {  background: var(--jp-border-color0);}\n.datatable th:nth-child(2) { padding-left: 12px; }\n.datatable .hellipsis {  color: var(--jp-cell-editor-border-color);}\n.datatable .vellipsis {  background: var(--jp-layout-color0);  color: var(--jp-cell-editor-border-color);}\n.datatable .na {  color: var(--jp-cell-editor-border-color);  font-size: 80%;}\n.datatable .footer { font-size: 9px; }\n.datatable .frame_dimensions {  background: var(--jp-border-color3);  border-top: 1px solid var(--jp-border-color0);  color: var(--jp-ui-font-color3);  display: inline-block;  opacity: 0.6;  padding: 1px 10px 1px 5px;}\n</style>\n"
     },
     "metadata": {}
    },
    {
     "output_type": "stream",
     "name": "stdout",
     "text": [
      "/home/scao/Documents \n\n\n======================================== CPU Info ========================================\nPhysical cores    : 10\nTotal cores       : 20\nMax Frequency    : 5200.00 Mhz\nMin Frequency    : 800.00 Mhz\nCurrent Frequency: 4890.20 Mhz\n======================================== Memory Info ========================================\nTotal     : 62.62 GiB\nAvailable : 56.81 GiB\nUsed      : 4.89 GiB\n======================================== Software Info ========================================\nPython     : 3.8.3 (default, Jul  2 2020, 16:21:59) \nNumpy      : 1.18.5\nPandas     : 1.0.5\nPyTorch    : 1.7.0\n======================================== GPU Info ========================================\nDevice     : cuda:0\nGeForce RTX 3090\nMem total      : 23.7 GB\nMem allocated  : 0.0 GB\nMem cached     : 0.0 GB\n======================================== system info print done ========================================\n"
     ]
    }
   ],
   "source": [
    "import os\n",
    "import gc\n",
    "import sys\n",
    "\n",
    "import pickle\n",
    "from time import time\n",
    "\n",
    "import datatable as dt\n",
    "import matplotlib.pyplot as plt\n",
    "import numpy as np\n",
    "import pandas as pd\n",
    "import seaborn as sns\n",
    "import torch\n",
    "import torch.nn as nn\n",
    "from torch import optim\n",
    "from sklearn.metrics import roc_auc_score\n",
    "from sklearn.model_selection import train_test_split\n",
    "from torch.autograd import Variable\n",
    "import torch.optim as optim\n",
    "from torch.optim import Optimizer\n",
    "from torch.optim.lr_scheduler import (CosineAnnealingWarmRestarts, CyclicLR, OneCycleLR,\n",
    "                                      ReduceLROnPlateau)\n",
    "from torch.utils.data import DataLoader, Dataset\n",
    "from tqdm import tqdm\n",
    "\n",
    "sns.set()\n",
    "DEFAULT_FIG_WIDTH = 20\n",
    "sns.set_context(\"paper\", font_scale=1.2) \n",
    "# WORKSPACE_FOLDER=/home/scao/Documents/kaggle-riiid-test\n",
    "# PYTHONPATH=${WORKSPACE_FOLDER}:${WORKSPACE_FOLDER}/sakt:${WORKSPACE_FOLDER}/transformer\n",
    "HOME = os.path.abspath(os.path.join('.', os.pardir))\n",
    "print(HOME, '\\n\\n')\n",
    "# HOME = \"/home/scao/Documents/kaggle-riiid-test/\"\n",
    "MODEL_DIR = os.path.join(HOME,  'model')\n",
    "DATA_DIR = os.path.join(HOME,  'data')\n",
    "sys.path.append(HOME) \n",
    "from utils import *\n",
    "get_system()\n",
    "from sakt import *\n",
    "from iter_env import *"
   ]
  },
  {
   "cell_type": "code",
   "execution_count": 2,
   "metadata": {},
   "outputs": [],
   "source": [
    "# set-up\n",
    "\n",
    "DEBUG = True\n",
    "TRAIN = False\n",
    "PREPROCESS = False\n",
    "\n",
    "TEST_SIZE = 0.05\n",
    "\n",
    "NUM_SKILLS = 13523 # number of problems\n",
    "MAX_SEQ = 180\n",
    "ACCEPTED_USER_CONTENT_SIZE = 4\n",
    "EMBED_SIZE = 128\n",
    "NUM_HEADS = 8\n",
    "BATCH_SIZE = 64\n",
    "VAL_BATCH_SIZE = 2048\n",
    "DEBUG_TEST_SIZE = 2500\n",
    "DROPOUT = 0.1\n",
    "SEED = 1127\n",
    "\n",
    "get_seed(SEED)\n",
    "\n",
    "'''\n",
    "Columns placeholder and preprocessing params\n",
    "'''\n",
    "CONTENT_TYPE_ID = \"content_type_id\"\n",
    "CONTENT_ID = \"content_id\"\n",
    "TARGET = \"answered_correctly\"\n",
    "USER_ID = \"user_id\"\n",
    "PRIOR_QUESTION_TIME = 'prior_question_elapsed_time'\n",
    "\n",
    "PRIOR_QUESTION_EXPLAIN = 'prior_question_had_explanation'\n",
    "TASK_CONTAINER_ID = \"task_container_id\"\n",
    "TIMESTAMP = \"timestamp\" \n",
    "ROW_ID = 'row_id'\n",
    "FILLNA_VAL = 14_000 # for prior question elapsed time, rounded average in train\n",
    "TIME_SCALING = 1000 # scaling down the prior question elapsed time\n",
    "\n",
    "TRAIN_COLS = [TIMESTAMP, USER_ID, CONTENT_ID, CONTENT_TYPE_ID, TARGET]\n",
    "\n",
    "TRAIN_DTYPES = {TIMESTAMP: 'int64', \n",
    "         USER_ID: 'int32', \n",
    "         CONTENT_ID: 'int16',\n",
    "         CONTENT_TYPE_ID: 'bool',\n",
    "         TARGET:'int8',\n",
    "         PRIOR_QUESTION_TIME: np.float32,\n",
    "         PRIOR_QUESTION_EXPLAIN: 'boolean'}\n",
    "\n",
    "\n",
    "if DEBUG:\n",
    "    NROWS_TEST = 25_000\n",
    "    NROWS_TRAIN = 5_000_000\n",
    "    NROWS_VAL = 500_000\n",
    "else:\n",
    "    NROWS_TEST = 250_000\n",
    "    NROWS_TRAIN = 50_000_000\n",
    "    NROWS_VAL = 2_000_000"
   ]
  },
  {
   "cell_type": "code",
   "execution_count": 3,
   "metadata": {},
   "outputs": [
    {
     "output_type": "stream",
     "name": "stdout",
     "text": [
      "valid users: 18274\ntrain users: 347191\n"
     ]
    }
   ],
   "source": [
    "if PREPROCESS:\n",
    "    with timer(\"Loading train from parquet\"):\n",
    "        train_df = pd.read_parquet(os.path.join(DATA_DIR, 'cv2_train.parquet'),\n",
    "                                columns=list(TRAIN_DTYPES.keys())).astype(TRAIN_DTYPES)\n",
    "        valid_df = pd.read_parquet(os.path.join(DATA_DIR, 'cv2_valid.parquet'),\n",
    "                                columns=list(TRAIN_DTYPES.keys())).astype(TRAIN_DTYPES)\n",
    "\n",
    "    if DEBUG:\n",
    "        train_df = train_df[:NROWS_TRAIN]\n",
    "        valid_df = valid_df[:NROWS_VAL]\n",
    "\n",
    "    with timer(\"Processing train\"):\n",
    "        train_group = preprocess(train_df)\n",
    "        valid_group = preprocess(valid_df, train_flag=2)\n",
    "else:\n",
    "    with open(os.path.join(DATA_DIR, 'sakt_group_cv2.pickle'), 'rb') as f:\n",
    "        group = pickle.load(f)\n",
    "    train_group, valid_group = train_test_split(group, test_size = TEST_SIZE, random_state=SEED)\n",
    "\n",
    "\n",
    "print(f\"valid users: {len(valid_group.keys())}\")\n",
    "print(f\"train users: {len(train_group.keys())}\")"
   ]
  },
  {
   "cell_type": "code",
   "execution_count": 4,
   "metadata": {},
   "outputs": [
    {
     "output_type": "execute_result",
     "data": {
      "text/plain": [
       "(torch.Size([64, 179]), torch.Size([64, 179]), torch.Size([64, 179]))"
      ]
     },
     "metadata": {},
     "execution_count": 4
    }
   ],
   "source": [
    "class SAKTDataset(Dataset):\n",
    "    def __init__(self, group, n_skill, max_seq=MAX_SEQ):\n",
    "        super(SAKTDataset, self).__init__()\n",
    "        self.samples, self.n_skill, self.max_seq = {}, n_skill, max_seq\n",
    "        \n",
    "        self.user_ids = []\n",
    "        for i, user_id in enumerate(group.index):\n",
    "            content_id, answered_correctly = group[user_id]\n",
    "            if len(content_id) >= ACCEPTED_USER_CONTENT_SIZE:\n",
    "                if len(content_id) > self.max_seq:\n",
    "                    total_questions = len(content_id)\n",
    "                    last_pos = total_questions // self.max_seq\n",
    "                    for seq in range(last_pos):\n",
    "                        index = f\"{user_id}_{seq}\"\n",
    "                        self.user_ids.append(index)\n",
    "                        start = seq * self.max_seq\n",
    "                        end = (seq + 1) * self.max_seq\n",
    "                        self.samples[index] = (content_id[start:end], \n",
    "                                               answered_correctly[start:end])\n",
    "                    if len(content_id[end:]) >= ACCEPTED_USER_CONTENT_SIZE:\n",
    "                        index = f\"{user_id}_{last_pos + 1}\"\n",
    "                        self.user_ids.append(index)\n",
    "                        self.samples[index] = (content_id[end:], \n",
    "                                               answered_correctly[end:])\n",
    "                else:\n",
    "                    index = f'{user_id}'\n",
    "                    self.user_ids.append(index)\n",
    "                    self.samples[index] = (content_id, answered_correctly)\n",
    "                \n",
    "                \n",
    "    def __len__(self):\n",
    "        return len(self.user_ids)\n",
    "\n",
    "    def __getitem__(self, index):\n",
    "        user_id = self.user_ids[index]\n",
    "        content_id, answered_correctly = self.samples[user_id]\n",
    "        seq_len = len(content_id)\n",
    "        \n",
    "        content_id_seq = np.zeros(self.max_seq, dtype=int)\n",
    "        answered_correctly_seq = np.zeros(self.max_seq, dtype=int)\n",
    "        if seq_len >= self.max_seq:\n",
    "            content_id_seq[:] = content_id[-self.max_seq:]\n",
    "            answered_correctly_seq[:] = answered_correctly[-self.max_seq:]\n",
    "        else:\n",
    "            content_id_seq[-seq_len:] = content_id\n",
    "            answered_correctly_seq[-seq_len:] = answered_correctly\n",
    "            \n",
    "        target_id = content_id_seq[1:] # question till the current one\n",
    "        label = answered_correctly_seq[1:]\n",
    "        \n",
    "        x = content_id_seq[:-1].copy() # question till the previous one\n",
    "        # encoded answers till the previous one\n",
    "        x += (answered_correctly_seq[:-1] == 1) * self.n_skill\n",
    "        \n",
    "        return x, target_id, label\n",
    "\n",
    "train_dataset = SAKTDataset(train_group, n_skill=NUM_SKILLS, max_seq=MAX_SEQ)\n",
    "train_dataloader = DataLoader(train_dataset, \n",
    "                                batch_size=BATCH_SIZE, \n",
    "                                shuffle=True, \n",
    "                                drop_last=True)\n",
    "\n",
    "\n",
    "val_dataset = SAKTDataset(valid_group, n_skill=NUM_SKILLS, max_seq=MAX_SEQ)\n",
    "val_dataloader = DataLoader(val_dataset, \n",
    "                            batch_size=VAL_BATCH_SIZE, \n",
    "                            shuffle=False)\n",
    "\n",
    "sample_batch = next(iter(train_dataloader))\n",
    "sample_batch[0].shape, sample_batch[1].shape, sample_batch[2].shape"
   ]
  },
  {
   "cell_type": "code",
   "execution_count": 5,
   "metadata": {},
   "outputs": [],
   "source": [
    "class FFN(nn.Module):\n",
    "    def __init__(self, state_size = MAX_SEQ, \n",
    "                    forward_expansion = 1, \n",
    "                    bn_size=MAX_SEQ - 1, \n",
    "                    dropout=0.2):\n",
    "        super(FFN, self).__init__()\n",
    "        self.state_size = state_size\n",
    "        \n",
    "        self.lr1 = nn.Linear(state_size, forward_expansion * state_size)\n",
    "        self.relu = nn.ReLU()\n",
    "        self.bn = nn.BatchNorm1d(bn_size)\n",
    "        self.lr2 = nn.Linear(forward_expansion * state_size, state_size)\n",
    "        self.dropout = nn.Dropout(dropout)\n",
    "        \n",
    "    def forward(self, x):\n",
    "        x = self.relu(self.lr1(x))\n",
    "        x = self.bn(x)\n",
    "        x = self.lr2(x)\n",
    "        return self.dropout(x)\n",
    "\n",
    "def future_mask(seq_length):\n",
    "    future_mask = (np.triu(np.ones([seq_length, seq_length]), k = 1)).astype('bool')\n",
    "    return torch.from_numpy(future_mask)\n",
    "\n",
    "class TransformerBlock(nn.Module):\n",
    "    def __init__(self, embed_dim, \n",
    "                    heads = 8, \n",
    "                    dropout = DROPOUT, \n",
    "                    forward_expansion = 1):\n",
    "        super(TransformerBlock, self).__init__()\n",
    "        self.multi_att = nn.MultiheadAttention(embed_dim=embed_dim, \n",
    "                        num_heads=heads, dropout=dropout)\n",
    "        self.dropout = nn.Dropout(dropout)\n",
    "        self.layer_normal = nn.LayerNorm(embed_dim)\n",
    "        self.ffn = FFN(embed_dim, \n",
    "                    forward_expansion = forward_expansion, \n",
    "                    dropout=dropout)\n",
    "        self.layer_normal_2 = nn.LayerNorm(embed_dim)\n",
    "        \n",
    "\n",
    "    def forward(self, value, key, query, att_mask):\n",
    "        att_output, att_weight = self.multi_att(value, key, query, attn_mask=att_mask)\n",
    "        att_output = self.dropout(self.layer_normal(att_output + value))\n",
    "        att_output = att_output.permute(1, 0, 2) \n",
    "        # att_output: [s_len, bs, embed] => [bs, s_len, embed]\n",
    "        x = self.ffn(att_output)\n",
    "        x = self.dropout(self.layer_normal_2(x + att_output))\n",
    "        return x.squeeze(-1), att_weight\n",
    "    \n",
    "class Encoder(nn.Module):\n",
    "    def __init__(self, n_skill, max_seq=100, \n",
    "                 embed_dim=128, \n",
    "                 dropout = DROPOUT, \n",
    "                 forward_expansion = 1, \n",
    "                 num_layers=1, \n",
    "                 heads = 8):\n",
    "        super(Encoder, self).__init__()\n",
    "        self.n_skill, self.embed_dim = n_skill, embed_dim\n",
    "        self.embedding = nn.Embedding(2 * n_skill + 1, embed_dim)\n",
    "        self.pos_embedding = nn.Embedding(max_seq - 1, embed_dim)\n",
    "        self.e_embedding = nn.Embedding(n_skill+1, embed_dim)\n",
    "        self.layers = nn.ModuleList([TransformerBlock(embed_dim, heads=heads,\n",
    "                forward_expansion = forward_expansion) for _ in range(num_layers)])\n",
    "        self.dropout = nn.Dropout(dropout)\n",
    "        \n",
    "    def forward(self, x, question_ids):\n",
    "        device = x.device\n",
    "        x = self.embedding(x)\n",
    "        pos_id = torch.arange(x.size(1)).unsqueeze(0).to(device)\n",
    "        pos_x = self.pos_embedding(pos_id)\n",
    "        x = self.dropout(x + pos_x)\n",
    "        x = x.permute(1, 0, 2) # x: [bs, s_len, embed] => [s_len, bs, embed]\n",
    "        e = self.e_embedding(question_ids)\n",
    "        e = e.permute(1, 0, 2)\n",
    "        for layer in self.layers:\n",
    "            att_mask = future_mask(e.size(0)).to(device)\n",
    "            x, att_weight = layer(e, x, x, att_mask=att_mask)\n",
    "            x = x.permute(1, 0, 2)\n",
    "        x = x.permute(1, 0, 2)\n",
    "        return x, att_weight\n",
    "\n",
    "class SAKTModel(nn.Module):\n",
    "    def __init__(self, \n",
    "                n_skill, \n",
    "                max_seq=MAX_SEQ, \n",
    "                embed_dim=EMBED_SIZE, \n",
    "                dropout = DROPOUT, \n",
    "                forward_expansion = 1, \n",
    "                enc_layers=1, \n",
    "                heads = NUM_HEADS):\n",
    "        super(SAKTModel, self).__init__()\n",
    "        self.encoder = Encoder(n_skill, \n",
    "                               max_seq, \n",
    "                               embed_dim, \n",
    "                               dropout, \n",
    "                               forward_expansion, \n",
    "                               num_layers=enc_layers,\n",
    "                               heads=heads)\n",
    "        self.pred = nn.Linear(embed_dim, 1)\n",
    "        \n",
    "    def forward(self, x, question_ids):\n",
    "        x, att_weight = self.encoder(x, question_ids)\n",
    "        x = self.pred(x)\n",
    "        return x.squeeze(-1), att_weight\n",
    "\n",
    "\n",
    "class TestDataset(Dataset):\n",
    "    def __init__(self, samples, test_df, n_skill, max_seq=100):\n",
    "        super(TestDataset, self).__init__()\n",
    "        self.samples = samples\n",
    "        self.user_ids = [x for x in test_df[\"user_id\"].unique()]\n",
    "        self.test_df = test_df\n",
    "        self.n_skill, self.max_seq = n_skill, max_seq\n",
    "\n",
    "    def __len__(self):\n",
    "        return self.test_df.shape[0]\n",
    "    \n",
    "    def __getitem__(self, index):\n",
    "        test_info = self.test_df.iloc[index]\n",
    "        \n",
    "        user_id = test_info['user_id']\n",
    "        target_id = test_info['content_id']\n",
    "        \n",
    "        content_id_seq = np.zeros(self.max_seq, dtype=int)\n",
    "        answered_correctly_seq = np.zeros(self.max_seq, dtype=int)\n",
    "        \n",
    "        if user_id in self.samples.index:\n",
    "            content_id, answered_correctly = self.samples[user_id]\n",
    "            \n",
    "            seq_len = len(content_id)\n",
    "            \n",
    "            if seq_len >= self.max_seq:\n",
    "                content_id_seq = content_id[-self.max_seq:]\n",
    "                answered_correctly_seq = answered_correctly[-self.max_seq:]\n",
    "            else:\n",
    "                content_id_seq[-seq_len:] = content_id\n",
    "                answered_correctly_seq[-seq_len:] = answered_correctly\n",
    "                \n",
    "        x = content_id_seq[1:].copy()\n",
    "        x += (answered_correctly_seq[1:] == 1) * self.n_skill\n",
    "        \n",
    "        questions = np.append(content_id_seq[2:], [target_id])\n",
    "        \n",
    "        return x, questions"
   ]
  },
  {
   "cell_type": "code",
   "execution_count": 6,
   "metadata": {},
   "outputs": [
    {
     "output_type": "stream",
     "name": "stdout",
     "text": [
      "\nUsing device: cuda\nCurrent model has 5316071 parameters.\n"
     ]
    },
    {
     "output_type": "execute_result",
     "data": {
      "text/plain": [
       "<All keys matched successfully>"
      ]
     },
     "metadata": {},
     "execution_count": 6
    }
   ],
   "source": [
    "device = torch.device('cuda' if torch.cuda.is_available() else 'cpu')\n",
    "print(f'\\nUsing device: {device}')\n",
    "model_file = MODEL_DIR+'sakt_seq_180_auc_0.7689.pth'\n",
    "model = SAKTModel(n_skill=NUM_SKILLS, \n",
    "                  max_seq=MAX_SEQ, \n",
    "                  embed_dim=EMBED_SIZE, \n",
    "                  forward_expansion=1, \n",
    "                  enc_layers=1, \n",
    "                  heads=NUM_HEADS, \n",
    "                  dropout=DROPOUT)\n",
    "\n",
    "n_params = get_num_params(model)\n",
    "print(f\"Current model has {n_params} parameters.\")\n",
    "        \n",
    "model = model.to(device)\n",
    "model.load_state_dict(torch.load(model_file, map_location=device))"
   ]
  },
  {
   "cell_type": "code",
   "execution_count": 27,
   "metadata": {},
   "outputs": [
    {
     "output_type": "stream",
     "name": "stdout",
     "text": [
      "\u001b[94mLoading private simulated test set: start at 1609796684.5032809;\u001b[0m\n",
      "\u001b[92mRAM USAGE AT START: 5.84 GB\u001b[0m\n",
      "\u001b[94mLoading private simulated test set:  done at 1609796684.554794 (0.05 secs elapsed);\u001b[0m\n",
      "\u001b[92mRAM USAGE AT END:   6.11GB (+0.26GB)\u001b[0m\n",
      "\u001b[94mloading cv2: start at 1609796684.5554662;\u001b[0m\n",
      "\u001b[92mRAM USAGE AT START: 6.11 GB\u001b[0m\n",
      "\u001b[94mloading cv2:  done at 1609796685.3487267 (0.79 secs elapsed);\u001b[0m\n",
      "\u001b[92mRAM USAGE AT END:   6.14GB (+0.03GB)\u001b[0m\n"
     ]
    }
   ],
   "source": [
    "# mock test\n",
    "with timer(\"Loading private simulated test set\"):\n",
    "    all_test_df = pd.read_parquet(DATA_DIR+'cv2_valid.parquet')\n",
    "    all_test_df = all_test_df[:DEBUG_TEST_SIZE]\n",
    "\n",
    "all_test_df['answer_correctly_true'] = all_test_df[TARGET]\n",
    "\n",
    "predicted = []\n",
    "def set_predict(df):\n",
    "    predicted.append(df)\n",
    "\n",
    "# reload all user group for cv2\n",
    "with timer('loading cv2'):\n",
    "    with open(os.path.join(DATA_DIR, 'sakt_group_cv2.pickle'), 'rb') as f:\n",
    "        group = pickle.load(f)"
   ]
  },
  {
   "cell_type": "code",
   "execution_count": 20,
   "metadata": {},
   "outputs": [],
   "source": [
    "def iter_env_run(all_test_df, n_iter=1):\n",
    "    '''\n",
    "    Running mock test for n_iter iterations using tito's iter_env simulator and cv2_train user group.\n",
    "    '''\n",
    "    iter_test = Iter_Valid(all_test_df, max_user=1000)\n",
    "    prev_test_df = None\n",
    "    prev_group = None\n",
    "    batch_user_ids = []\n",
    "\n",
    "    # reload all user group for cv2\n",
    "    with open(os.path.join(DATA_DIR, 'sakt_group_cv2.pickle'), 'rb') as f:\n",
    "        group = pickle.load(f)\n",
    "\n",
    "    for _ in range(n_iter):\n",
    "    \n",
    "        test_df, sample_prediction_df = next(iter_test)\n",
    "\n",
    "        if prev_test_df is not None:\n",
    "            prev_test_df['answered_correctly'] = eval(test_df['prior_group_answers_correct'].iloc[0])\n",
    "            prev_test_df = prev_test_df[prev_test_df.content_type_id == False]\n",
    "            prev_group = prev_test_df[['user_id', 'content_id', 'answered_correctly']]\\\n",
    "                                    .groupby('user_id').apply(lambda r: (\n",
    "                                        r['content_id'].values,\n",
    "                                        r['answered_correctly'].values))\n",
    "            for prev_user_id in prev_group.index:\n",
    "                prev_group_content = prev_group[prev_user_id][0]\n",
    "                prev_group_answered_correctly = prev_group[prev_user_id][1]\n",
    "                if prev_user_id in group.index:\n",
    "                    group[prev_user_id] = (np.append(group[prev_user_id][0], prev_group_content), \n",
    "                                        np.append(group[prev_user_id][1], prev_group_answered_correctly))\n",
    "                else:\n",
    "                    group[prev_user_id] = (prev_group_content, prev_group_answered_correctly)\n",
    "\n",
    "                if len(group[prev_user_id][0]) > MAX_SEQ:\n",
    "                    new_group_content = group[prev_user_id][0][-MAX_SEQ:]\n",
    "                    new_group_answered_correctly = group[prev_user_id][1][-MAX_SEQ:]\n",
    "                    group[prev_user_id] = (new_group_content, new_group_answered_correctly)\n",
    "\n",
    "        prev_test_df = test_df.copy()\n",
    "        test_df = test_df[test_df.content_type_id == False]\n",
    "\n",
    "        batch_user_ids.append(test_df.user_id.unique())\n",
    "\n",
    "        test_dataset = TestDataset(group, test_df, NUM_SKILLS, max_seq=MAX_SEQ)\n",
    "        test_dataloader = DataLoader(test_dataset, batch_size=len(test_df), shuffle=False)\n",
    "\n",
    "        item = next(iter(test_dataloader))\n",
    "        x = item[0].to(device).long()\n",
    "        target_id = item[1].to(device).long()\n",
    "\n",
    "        with torch.no_grad():\n",
    "            output, _ = model(x, target_id)\n",
    "\n",
    "        output = torch.sigmoid(output)\n",
    "        preds = output[:, -1]\n",
    "        test_df['answered_correctly'] = preds.cpu().numpy()\n",
    "        set_predict(test_df.loc[test_df['content_type_id'] == 0, \n",
    "                                ['row_id', 'answered_correctly']])\n",
    "\n",
    "    return test_df, prev_test_df, output, item, group, prev_group, batch_user_ids"
   ]
  },
  {
   "source": [
    "## Debugging notes\n",
    "\n",
    "Current set up, cv2_valid first 25k rows\n",
    "first 4 batches common `user_id`: 143316232, 1089397940, 1140583044 (placeholder user?)\n"
   ],
   "cell_type": "markdown",
   "metadata": {}
  },
  {
   "cell_type": "code",
   "execution_count": 28,
   "metadata": {},
   "outputs": [
    {
     "output_type": "execute_result",
     "data": {
      "text/plain": [
       "(array([5551, 5074,  296, 4554, 5192, 6445, 3565,  853,  675, 1315],\n",
       "       dtype=int16),\n",
       " array([1, 1, 1, 0, 0, 1, 1, 1, 1, 0], dtype=int8))"
      ]
     },
     "metadata": {},
     "execution_count": 28
    }
   ],
   "source": [
    "group[1089397940]"
   ]
  },
  {
   "source": [
    "Iteration number 1 in the `iter_env`, the model gives the correct preds."
   ],
   "cell_type": "markdown",
   "metadata": {}
  },
  {
   "cell_type": "code",
   "execution_count": 29,
   "metadata": {},
   "outputs": [
    {
     "output_type": "stream",
     "name": "stdout",
     "text": [
      "local index of user 1089397940: 15 \n\n"
     ]
    },
    {
     "output_type": "execute_result",
     "data": {
      "text/plain": [
       "virtual_timestamp                 68564308947\n",
       "row_id                               51398657\n",
       "timestamp                              404961\n",
       "user_id                            1089397940\n",
       "content_id                              10687\n",
       "content_type_id                             0\n",
       "task_container_id                          10\n",
       "user_answer                                 1\n",
       "answered_correctly                    0.90227\n",
       "prior_question_elapsed_time             17000\n",
       "prior_question_had_explanation           True\n",
       "answer_correctly_true                       1\n",
       "prior_group_responses                      []\n",
       "prior_group_answers_correct                []\n",
       "Name: 15, dtype: object"
      ]
     },
     "metadata": {},
     "execution_count": 29
    }
   ],
   "source": [
    "test_df, prev_test_df, output, item, group_updated, _, _ = iter_env_run(all_test_df, n_iter=1)\n",
    "u_idx_loc = test_df.index.get_loc(test_df[test_df.user_id==1089397940].index[0])\n",
    "print(f\"local index of user 1089397940: {u_idx_loc}\", '\\n')\n",
    "test_df.iloc[u_idx_loc]"
   ]
  },
  {
   "cell_type": "code",
   "execution_count": 30,
   "metadata": {},
   "outputs": [
    {
     "output_type": "stream",
     "name": "stdout",
     "text": [
      "tensor([    0,  5551,  5074,   296,  4554,  5192,  6445,  3565,   853,   675,\n         1315, 10687])\ntensor([    0,     0, 19074, 18597, 13819,  4554,  5192, 19968, 17088, 14376,\n        14198,  1315])\n[0.53834283 0.3239261  0.647181   0.7584595  0.73651344 0.35566953\n 0.66910625 0.55974096 0.29306644 0.6493867  0.3952613  0.9022701 ] \n\n[5551 5074  296 4554 5192 6445 3565  853  675 1315]\n[1 1 1 0 0 1 1 1 1 0]\n"
     ]
    }
   ],
   "source": [
    "print(item[1][u_idx_loc, -12:]) # user 1089397940 first batch in example_test (question sequence)\n",
    "print(item[0][u_idx_loc, -12:]) # user 1089397940 first batch in example_test: skill sequence = prev_content_id * (correct or not) + 13523\n",
    "print(output[u_idx_loc, -12:].cpu().numpy(),'\\n') # user 1089397940 probability prediction\n",
    "\n",
    "print(group_updated[1089397940][0][:12]) # in the first iteration the length is only 11\n",
    "print(group_updated[1089397940][1][:12])"
   ]
  },
  {
   "source": [
    "Iteration number 2"
   ],
   "cell_type": "markdown",
   "metadata": {}
  },
  {
   "cell_type": "code",
   "execution_count": 31,
   "metadata": {},
   "outputs": [
    {
     "output_type": "stream",
     "name": "stdout",
     "text": [
      "local index of user 1089397940: 3 \n\n"
     ]
    },
    {
     "output_type": "execute_result",
     "data": {
      "text/plain": [
       "virtual_timestamp                 68564332056\n",
       "row_id                               51398658\n",
       "timestamp                              428070\n",
       "user_id                            1089397940\n",
       "content_id                                412\n",
       "content_type_id                             0\n",
       "task_container_id                          11\n",
       "user_answer                                 3\n",
       "answered_correctly                   0.705047\n",
       "prior_question_elapsed_time             13000\n",
       "prior_question_had_explanation           True\n",
       "answer_correctly_true                       1\n",
       "prior_group_responses                      []\n",
       "prior_group_answers_correct                []\n",
       "Name: 43, dtype: object"
      ]
     },
     "metadata": {},
     "execution_count": 31
    }
   ],
   "source": [
    "test_df, prev_test_df, output, item, group_updated, _, _ = iter_env_run(all_test_df, n_iter=2)\n",
    "u_idx_loc = test_df.index.get_loc(test_df[test_df.user_id==1089397940].index[0])\n",
    "print(f\"local index of user 1089397940: {u_idx_loc}\", '\\n')\n",
    "test_df.iloc[u_idx_loc]"
   ]
  },
  {
   "cell_type": "code",
   "execution_count": 32,
   "metadata": {},
   "outputs": [
    {
     "output_type": "stream",
     "name": "stdout",
     "text": [
      "tensor([ 5551,  5074,   296,  4554,  5192,  6445,  3565,   853,   675,  1315,\n        10687,   412])\ntensor([    0, 19074, 18597, 13819,  4554,  5192, 19968, 17088, 14376, 14198,\n         1315, 24210])\n[0.37628064 0.66530186 0.8054409  0.76800567 0.53547776 0.6344047\n 0.6219861  0.29086193 0.6884348  0.33716252 0.92503697 0.705047  ] \n\n[ 5551  5074   296  4554  5192  6445  3565   853   675  1315 10687]\n[1 1 1 0 0 1 1 1 1 0 1]\n"
     ]
    }
   ],
   "source": [
    "print(item[1][u_idx_loc, -12:]) # user 1089397940 2nd batch in example_test (question sequence)\n",
    "print(item[0][u_idx_loc, -12:]) # user 1089397940 2nd batch in example_test: skill sequence = prev_content_id * (correct or not) + 13523\n",
    "print(output[u_idx_loc, -12:].cpu().numpy(),'\\n') # user 1089397940 probability prediction\n",
    "\n",
    "print(group_updated[1089397940][0][:12]) # in the 2nd iteration the length is only 11\n",
    "print(group_updated[1089397940][1][:12])"
   ]
  },
  {
   "source": [
    "Iteration number 3"
   ],
   "cell_type": "markdown",
   "metadata": {}
  },
  {
   "cell_type": "code",
   "execution_count": 39,
   "metadata": {},
   "outputs": [
    {
     "output_type": "stream",
     "name": "stdout",
     "text": [
      "local index of user 1089397940: 2 \n\n"
     ]
    },
    {
     "output_type": "execute_result",
     "data": {
      "text/plain": [
       "virtual_timestamp                 68564356750\n",
       "row_id                               51398659\n",
       "timestamp                              452764\n",
       "user_id                            1089397940\n",
       "content_id                                651\n",
       "content_type_id                             0\n",
       "task_container_id                          12\n",
       "user_answer                                 3\n",
       "answered_correctly                   0.374165\n",
       "prior_question_elapsed_time             16000\n",
       "prior_question_had_explanation           True\n",
       "answer_correctly_true                       1\n",
       "prior_group_responses                      []\n",
       "prior_group_answers_correct                []\n",
       "Name: 54, dtype: object"
      ]
     },
     "metadata": {},
     "execution_count": 39
    }
   ],
   "source": [
    "test_df, prev_test_df, output, item, group_updated, _, _ = iter_env_run(all_test_df, n_iter=3)\n",
    "u_idx_loc = test_df.index.get_loc(test_df[test_df.user_id==1089397940].index[0])\n",
    "print(f\"local index of user 1089397940: {u_idx_loc}\", '\\n')\n",
    "test_df.iloc[u_idx_loc]"
   ]
  },
  {
   "cell_type": "code",
   "execution_count": 23,
   "metadata": {},
   "outputs": [
    {
     "output_type": "execute_result",
     "data": {
      "text/plain": [
       "    virtual_timestamp    row_id    timestamp     user_id  content_id  \\\n",
       "52        68564353140  53804593    908504634  1140583044        1238   \n",
       "53        68564354871   6789101    208892916   147771339        9285   \n",
       "54        68564356750  51398659       452764  1089397940         651   \n",
       "55        68564357545   6572820     26148069   143316232        9874   \n",
       "56        68564357944  79224569  61247447101  1686819041        6325   \n",
       "57        68564362534  52786660     95197287  1118911890         660   \n",
       "58        68564364043   6559032  31998443066   142958766        1265   \n",
       "59        68564367850  73310718        58181  1559547677        4216   \n",
       "60        68564369095  79509641    804851645  1693026219        4476   \n",
       "61        68564369521  30215621  11412935891   648079731         401   \n",
       "\n",
       "    content_type_id  task_container_id  user_answer  answered_correctly  \\\n",
       "52                0                 67            1                   1   \n",
       "53                0                146            0                   0   \n",
       "54                0                 12            3                   1   \n",
       "55                0                 70            3                   0   \n",
       "56                0               3305            2                   0   \n",
       "57                0                 76            3                   1   \n",
       "58                0                423            3                   0   \n",
       "59                0                  1            2                   0   \n",
       "60                0                210            3                   0   \n",
       "61                0                875            3                   1   \n",
       "\n",
       "    prior_question_elapsed_time prior_question_had_explanation  \\\n",
       "52                      15000.0                           True   \n",
       "53                      17000.0                           True   \n",
       "54                      16000.0                           True   \n",
       "55                      13000.0                           True   \n",
       "56                      47000.0                           True   \n",
       "57                      16000.0                           True   \n",
       "58                       9000.0                           True   \n",
       "59                       9000.0                          False   \n",
       "60                      18000.0                           True   \n",
       "61                      18000.0                           True   \n",
       "\n",
       "    answer_correctly_true      prior_group_responses  \\\n",
       "52                      1  [3,3,0,3,2,3,1,2,0,0,1,0]   \n",
       "53                      0                         []   \n",
       "54                      1                         []   \n",
       "55                      0                         []   \n",
       "56                      0                         []   \n",
       "57                      1                         []   \n",
       "58                      0                         []   \n",
       "59                      0                         []   \n",
       "60                      0                         []   \n",
       "61                      1                         []   \n",
       "\n",
       "   prior_group_answers_correct  \n",
       "52   [1,1,0,1,1,1,1,0,1,1,0,1]  \n",
       "53                          []  \n",
       "54                          []  \n",
       "55                          []  \n",
       "56                          []  \n",
       "57                          []  \n",
       "58                          []  \n",
       "59                          []  \n",
       "60                          []  \n",
       "61                          []  "
      ],
      "text/html": "<div>\n<style scoped>\n    .dataframe tbody tr th:only-of-type {\n        vertical-align: middle;\n    }\n\n    .dataframe tbody tr th {\n        vertical-align: top;\n    }\n\n    .dataframe thead th {\n        text-align: right;\n    }\n</style>\n<table border=\"1\" class=\"dataframe\">\n  <thead>\n    <tr style=\"text-align: right;\">\n      <th></th>\n      <th>virtual_timestamp</th>\n      <th>row_id</th>\n      <th>timestamp</th>\n      <th>user_id</th>\n      <th>content_id</th>\n      <th>content_type_id</th>\n      <th>task_container_id</th>\n      <th>user_answer</th>\n      <th>answered_correctly</th>\n      <th>prior_question_elapsed_time</th>\n      <th>prior_question_had_explanation</th>\n      <th>answer_correctly_true</th>\n      <th>prior_group_responses</th>\n      <th>prior_group_answers_correct</th>\n    </tr>\n  </thead>\n  <tbody>\n    <tr>\n      <th>52</th>\n      <td>68564353140</td>\n      <td>53804593</td>\n      <td>908504634</td>\n      <td>1140583044</td>\n      <td>1238</td>\n      <td>0</td>\n      <td>67</td>\n      <td>1</td>\n      <td>1</td>\n      <td>15000.0</td>\n      <td>True</td>\n      <td>1</td>\n      <td>[3,3,0,3,2,3,1,2,0,0,1,0]</td>\n      <td>[1,1,0,1,1,1,1,0,1,1,0,1]</td>\n    </tr>\n    <tr>\n      <th>53</th>\n      <td>68564354871</td>\n      <td>6789101</td>\n      <td>208892916</td>\n      <td>147771339</td>\n      <td>9285</td>\n      <td>0</td>\n      <td>146</td>\n      <td>0</td>\n      <td>0</td>\n      <td>17000.0</td>\n      <td>True</td>\n      <td>0</td>\n      <td>[]</td>\n      <td>[]</td>\n    </tr>\n    <tr>\n      <th>54</th>\n      <td>68564356750</td>\n      <td>51398659</td>\n      <td>452764</td>\n      <td>1089397940</td>\n      <td>651</td>\n      <td>0</td>\n      <td>12</td>\n      <td>3</td>\n      <td>1</td>\n      <td>16000.0</td>\n      <td>True</td>\n      <td>1</td>\n      <td>[]</td>\n      <td>[]</td>\n    </tr>\n    <tr>\n      <th>55</th>\n      <td>68564357545</td>\n      <td>6572820</td>\n      <td>26148069</td>\n      <td>143316232</td>\n      <td>9874</td>\n      <td>0</td>\n      <td>70</td>\n      <td>3</td>\n      <td>0</td>\n      <td>13000.0</td>\n      <td>True</td>\n      <td>0</td>\n      <td>[]</td>\n      <td>[]</td>\n    </tr>\n    <tr>\n      <th>56</th>\n      <td>68564357944</td>\n      <td>79224569</td>\n      <td>61247447101</td>\n      <td>1686819041</td>\n      <td>6325</td>\n      <td>0</td>\n      <td>3305</td>\n      <td>2</td>\n      <td>0</td>\n      <td>47000.0</td>\n      <td>True</td>\n      <td>0</td>\n      <td>[]</td>\n      <td>[]</td>\n    </tr>\n    <tr>\n      <th>57</th>\n      <td>68564362534</td>\n      <td>52786660</td>\n      <td>95197287</td>\n      <td>1118911890</td>\n      <td>660</td>\n      <td>0</td>\n      <td>76</td>\n      <td>3</td>\n      <td>1</td>\n      <td>16000.0</td>\n      <td>True</td>\n      <td>1</td>\n      <td>[]</td>\n      <td>[]</td>\n    </tr>\n    <tr>\n      <th>58</th>\n      <td>68564364043</td>\n      <td>6559032</td>\n      <td>31998443066</td>\n      <td>142958766</td>\n      <td>1265</td>\n      <td>0</td>\n      <td>423</td>\n      <td>3</td>\n      <td>0</td>\n      <td>9000.0</td>\n      <td>True</td>\n      <td>0</td>\n      <td>[]</td>\n      <td>[]</td>\n    </tr>\n    <tr>\n      <th>59</th>\n      <td>68564367850</td>\n      <td>73310718</td>\n      <td>58181</td>\n      <td>1559547677</td>\n      <td>4216</td>\n      <td>0</td>\n      <td>1</td>\n      <td>2</td>\n      <td>0</td>\n      <td>9000.0</td>\n      <td>False</td>\n      <td>0</td>\n      <td>[]</td>\n      <td>[]</td>\n    </tr>\n    <tr>\n      <th>60</th>\n      <td>68564369095</td>\n      <td>79509641</td>\n      <td>804851645</td>\n      <td>1693026219</td>\n      <td>4476</td>\n      <td>0</td>\n      <td>210</td>\n      <td>3</td>\n      <td>0</td>\n      <td>18000.0</td>\n      <td>True</td>\n      <td>0</td>\n      <td>[]</td>\n      <td>[]</td>\n    </tr>\n    <tr>\n      <th>61</th>\n      <td>68564369521</td>\n      <td>30215621</td>\n      <td>11412935891</td>\n      <td>648079731</td>\n      <td>401</td>\n      <td>0</td>\n      <td>875</td>\n      <td>3</td>\n      <td>1</td>\n      <td>18000.0</td>\n      <td>True</td>\n      <td>1</td>\n      <td>[]</td>\n      <td>[]</td>\n    </tr>\n  </tbody>\n</table>\n</div>"
     },
     "metadata": {},
     "execution_count": 23
    }
   ],
   "source": [
    "prev_test_df"
   ]
  },
  {
   "cell_type": "code",
   "execution_count": 40,
   "metadata": {},
   "outputs": [
    {
     "output_type": "execute_result",
     "data": {
      "text/plain": [
       "'[1,1,0,1,1,1,1,0,1,1,0,1]'"
      ]
     },
     "metadata": {},
     "execution_count": 40
    }
   ],
   "source": [
    "prev_test_df['prior_group_answers_correct'].iloc[0]"
   ]
  },
  {
   "cell_type": "code",
   "execution_count": 41,
   "metadata": {},
   "outputs": [
    {
     "output_type": "stream",
     "name": "stdout",
     "text": [
      "tensor([ 5074,   296,  4554,  5192,  6445,  3565,   853,   675,  1315, 10687,\n          412,   651])\ntensor([19074, 18597, 13819,  4554,  5192, 19968, 17088, 14376, 14198,  1315,\n        24210, 13935])\n[0.6779202  0.75148046 0.7712332  0.4629782  0.6360581  0.52873796\n 0.2487526  0.69588625 0.40744492 0.9152832  0.6593629  0.3741647 ] \n\n[ 5551  5074   296  4554  5192  6445  3565   853   675  1315 10687   412]\n[1 1 1 0 0 1 1 1 1 0 1 1]\n"
     ]
    }
   ],
   "source": [
    "print(item[1][u_idx_loc, -12:]) # user 1089397940 first batch in example_test (question sequence)\n",
    "print(item[0][u_idx_loc, -12:]) # user 1089397940 first batch in example_test: skill sequence = prev_content_id * (correct or not) + 13523\n",
    "print(output[u_idx_loc, -12:].cpu().numpy(),'\\n') # user 1089397940 probability prediction\n",
    "\n",
    "print(group_updated[1089397940][0][:12]) # in the first iteration the length is only 11\n",
    "print(group_updated[1089397940][1][:12])"
   ]
  },
  {
   "source": [
    "Iteration number 4"
   ],
   "cell_type": "markdown",
   "metadata": {}
  },
  {
   "cell_type": "code",
   "execution_count": 37,
   "metadata": {},
   "outputs": [
    {
     "output_type": "stream",
     "name": "stdout",
     "text": [
      "local index of user 1089397940: 8 \n\n"
     ]
    },
    {
     "output_type": "execute_result",
     "data": {
      "text/plain": [
       "virtual_timestamp                 68564391579\n",
       "row_id                               51398660\n",
       "timestamp                              487593\n",
       "user_id                            1089397940\n",
       "content_id                                665\n",
       "content_type_id                             0\n",
       "task_container_id                          13\n",
       "user_answer                                 0\n",
       "answered_correctly                   0.296721\n",
       "prior_question_elapsed_time             17000\n",
       "prior_question_had_explanation           True\n",
       "answer_correctly_true                       0\n",
       "prior_group_responses                      []\n",
       "prior_group_answers_correct                []\n",
       "Name: 71, dtype: object"
      ]
     },
     "metadata": {},
     "execution_count": 37
    }
   ],
   "source": [
    "test_df, prev_test_df, output, item, group_updated, _, _ = iter_env_run(all_test_df, n_iter=4)\n",
    "u_idx_loc = test_df.index.get_loc(test_df[test_df.user_id==1089397940].index[0])\n",
    "print(f\"local index of user 1089397940: {u_idx_loc}\", '\\n')\n",
    "test_df.iloc[u_idx_loc]"
   ]
  },
  {
   "cell_type": "code",
   "execution_count": 38,
   "metadata": {},
   "outputs": [
    {
     "output_type": "stream",
     "name": "stdout",
     "text": [
      "tensor([  296,  4554,  5192,  6445,  3565,   853,   675,  1315, 10687,   412,\n          651,   665])\ntensor([18597, 13819,  4554,  5192, 19968, 17088, 14376, 14198,  1315, 24210,\n        13935, 14174])\n[0.7157869  0.74189687 0.4968931  0.6795694  0.53402317 0.31044167\n 0.6519086  0.31791052 0.93494207 0.78832686 0.37740535 0.2967214 ] \n\n[ 5551  5074   296  4554  5192  6445  3565   853   675  1315 10687   412]\n[1 1 1 0 0 1 1 1 1 0 1 1]\n"
     ]
    }
   ],
   "source": [
    "print(item[1][u_idx_loc, -12:]) # user 1089397940 first batch in example_test (question sequence)\n",
    "print(item[0][u_idx_loc, -12:]) # user 1089397940 first batch in example_test: skill sequence = prev_content_id * (correct or not) + 13523\n",
    "print(output[u_idx_loc, -12:].cpu().numpy(),'\\n') # user 1089397940 probability prediction\n",
    "\n",
    "print(group_updated[1089397940][0][:12]) # in the first iteration the length is only 11\n",
    "print(group_updated[1089397940][1][:12])"
   ]
  },
  {
   "cell_type": "code",
   "execution_count": 42,
   "metadata": {},
   "outputs": [
    {
     "output_type": "execute_result",
     "data": {
      "text/plain": [
       "    virtual_timestamp    row_id    timestamp     user_id  content_id  \\\n",
       "52        68564353140  53804593    908504634  1140583044        1238   \n",
       "53        68564354871   6789101    208892916   147771339        9285   \n",
       "54        68564356750  51398659       452764  1089397940         651   \n",
       "55        68564357545   6572820     26148069   143316232        9874   \n",
       "56        68564357944  79224569  61247447101  1686819041        6325   \n",
       "57        68564362534  52786660     95197287  1118911890         660   \n",
       "58        68564364043   6559032  31998443066   142958766        1265   \n",
       "59        68564367850  73310718        58181  1559547677        4216   \n",
       "60        68564369095  79509641    804851645  1693026219        4476   \n",
       "61        68564369521  30215621  11412935891   648079731         401   \n",
       "\n",
       "    content_type_id  task_container_id  user_answer  answered_correctly  \\\n",
       "52                0                 67            1                   1   \n",
       "53                0                146            0                   0   \n",
       "54                0                 12            3                   1   \n",
       "55                0                 70            3                   0   \n",
       "56                0               3305            2                   0   \n",
       "57                0                 76            3                   1   \n",
       "58                0                423            3                   0   \n",
       "59                0                  1            2                   0   \n",
       "60                0                210            3                   0   \n",
       "61                0                875            3                   1   \n",
       "\n",
       "    prior_question_elapsed_time prior_question_had_explanation  \\\n",
       "52                      15000.0                           True   \n",
       "53                      17000.0                           True   \n",
       "54                      16000.0                           True   \n",
       "55                      13000.0                           True   \n",
       "56                      47000.0                           True   \n",
       "57                      16000.0                           True   \n",
       "58                       9000.0                           True   \n",
       "59                       9000.0                          False   \n",
       "60                      18000.0                           True   \n",
       "61                      18000.0                           True   \n",
       "\n",
       "    answer_correctly_true      prior_group_responses  \\\n",
       "52                      1  [3,3,0,3,2,3,1,2,0,0,1,0]   \n",
       "53                      0                         []   \n",
       "54                      1                         []   \n",
       "55                      0                         []   \n",
       "56                      0                         []   \n",
       "57                      1                         []   \n",
       "58                      0                         []   \n",
       "59                      0                         []   \n",
       "60                      0                         []   \n",
       "61                      1                         []   \n",
       "\n",
       "   prior_group_answers_correct  \n",
       "52   [1,1,0,1,1,1,1,0,1,1,0,1]  \n",
       "53                          []  \n",
       "54                          []  \n",
       "55                          []  \n",
       "56                          []  \n",
       "57                          []  \n",
       "58                          []  \n",
       "59                          []  \n",
       "60                          []  \n",
       "61                          []  "
      ],
      "text/html": "<div>\n<style scoped>\n    .dataframe tbody tr th:only-of-type {\n        vertical-align: middle;\n    }\n\n    .dataframe tbody tr th {\n        vertical-align: top;\n    }\n\n    .dataframe thead th {\n        text-align: right;\n    }\n</style>\n<table border=\"1\" class=\"dataframe\">\n  <thead>\n    <tr style=\"text-align: right;\">\n      <th></th>\n      <th>virtual_timestamp</th>\n      <th>row_id</th>\n      <th>timestamp</th>\n      <th>user_id</th>\n      <th>content_id</th>\n      <th>content_type_id</th>\n      <th>task_container_id</th>\n      <th>user_answer</th>\n      <th>answered_correctly</th>\n      <th>prior_question_elapsed_time</th>\n      <th>prior_question_had_explanation</th>\n      <th>answer_correctly_true</th>\n      <th>prior_group_responses</th>\n      <th>prior_group_answers_correct</th>\n    </tr>\n  </thead>\n  <tbody>\n    <tr>\n      <th>52</th>\n      <td>68564353140</td>\n      <td>53804593</td>\n      <td>908504634</td>\n      <td>1140583044</td>\n      <td>1238</td>\n      <td>0</td>\n      <td>67</td>\n      <td>1</td>\n      <td>1</td>\n      <td>15000.0</td>\n      <td>True</td>\n      <td>1</td>\n      <td>[3,3,0,3,2,3,1,2,0,0,1,0]</td>\n      <td>[1,1,0,1,1,1,1,0,1,1,0,1]</td>\n    </tr>\n    <tr>\n      <th>53</th>\n      <td>68564354871</td>\n      <td>6789101</td>\n      <td>208892916</td>\n      <td>147771339</td>\n      <td>9285</td>\n      <td>0</td>\n      <td>146</td>\n      <td>0</td>\n      <td>0</td>\n      <td>17000.0</td>\n      <td>True</td>\n      <td>0</td>\n      <td>[]</td>\n      <td>[]</td>\n    </tr>\n    <tr>\n      <th>54</th>\n      <td>68564356750</td>\n      <td>51398659</td>\n      <td>452764</td>\n      <td>1089397940</td>\n      <td>651</td>\n      <td>0</td>\n      <td>12</td>\n      <td>3</td>\n      <td>1</td>\n      <td>16000.0</td>\n      <td>True</td>\n      <td>1</td>\n      <td>[]</td>\n      <td>[]</td>\n    </tr>\n    <tr>\n      <th>55</th>\n      <td>68564357545</td>\n      <td>6572820</td>\n      <td>26148069</td>\n      <td>143316232</td>\n      <td>9874</td>\n      <td>0</td>\n      <td>70</td>\n      <td>3</td>\n      <td>0</td>\n      <td>13000.0</td>\n      <td>True</td>\n      <td>0</td>\n      <td>[]</td>\n      <td>[]</td>\n    </tr>\n    <tr>\n      <th>56</th>\n      <td>68564357944</td>\n      <td>79224569</td>\n      <td>61247447101</td>\n      <td>1686819041</td>\n      <td>6325</td>\n      <td>0</td>\n      <td>3305</td>\n      <td>2</td>\n      <td>0</td>\n      <td>47000.0</td>\n      <td>True</td>\n      <td>0</td>\n      <td>[]</td>\n      <td>[]</td>\n    </tr>\n    <tr>\n      <th>57</th>\n      <td>68564362534</td>\n      <td>52786660</td>\n      <td>95197287</td>\n      <td>1118911890</td>\n      <td>660</td>\n      <td>0</td>\n      <td>76</td>\n      <td>3</td>\n      <td>1</td>\n      <td>16000.0</td>\n      <td>True</td>\n      <td>1</td>\n      <td>[]</td>\n      <td>[]</td>\n    </tr>\n    <tr>\n      <th>58</th>\n      <td>68564364043</td>\n      <td>6559032</td>\n      <td>31998443066</td>\n      <td>142958766</td>\n      <td>1265</td>\n      <td>0</td>\n      <td>423</td>\n      <td>3</td>\n      <td>0</td>\n      <td>9000.0</td>\n      <td>True</td>\n      <td>0</td>\n      <td>[]</td>\n      <td>[]</td>\n    </tr>\n    <tr>\n      <th>59</th>\n      <td>68564367850</td>\n      <td>73310718</td>\n      <td>58181</td>\n      <td>1559547677</td>\n      <td>4216</td>\n      <td>0</td>\n      <td>1</td>\n      <td>2</td>\n      <td>0</td>\n      <td>9000.0</td>\n      <td>False</td>\n      <td>0</td>\n      <td>[]</td>\n      <td>[]</td>\n    </tr>\n    <tr>\n      <th>60</th>\n      <td>68564369095</td>\n      <td>79509641</td>\n      <td>804851645</td>\n      <td>1693026219</td>\n      <td>4476</td>\n      <td>0</td>\n      <td>210</td>\n      <td>3</td>\n      <td>0</td>\n      <td>18000.0</td>\n      <td>True</td>\n      <td>0</td>\n      <td>[]</td>\n      <td>[]</td>\n    </tr>\n    <tr>\n      <th>61</th>\n      <td>68564369521</td>\n      <td>30215621</td>\n      <td>11412935891</td>\n      <td>648079731</td>\n      <td>401</td>\n      <td>0</td>\n      <td>875</td>\n      <td>3</td>\n      <td>1</td>\n      <td>18000.0</td>\n      <td>True</td>\n      <td>1</td>\n      <td>[]</td>\n      <td>[]</td>\n    </tr>\n  </tbody>\n</table>\n</div>"
     },
     "metadata": {},
     "execution_count": 42
    }
   ],
   "source": [
    "prev_test_df"
   ]
  },
  {
   "cell_type": "code",
   "execution_count": null,
   "metadata": {},
   "outputs": [],
   "source": []
  }
 ]
}